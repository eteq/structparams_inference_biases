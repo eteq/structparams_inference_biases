{
 "cells": [
  {
   "cell_type": "markdown",
   "id": "217987c5-9583-434c-8803-7cd2ed591c77",
   "metadata": {},
   "source": [
    "# Exponential generated dwarf experiments\n",
    "\n",
    "Start with an exponential profile due to its analytic relative simplicity. Later can try sersic."
   ]
  },
  {
   "cell_type": "code",
   "execution_count": 5,
   "id": "147b688b-ab40-4dca-92d6-3a20489603c2",
   "metadata": {},
   "outputs": [],
   "source": [
    "import numpy as np\n",
    "\n",
    "from astropy.modeling import models"
   ]
  },
  {
   "cell_type": "code",
   "execution_count": 6,
   "id": "3a5b3ee5-b450-4607-a347-26616bf36988",
   "metadata": {},
   "outputs": [],
   "source": [
    "from matplotlib import pyplot as plt\n",
    "%matplotlib inline"
   ]
  },
  {
   "cell_type": "code",
   "execution_count": 1,
   "id": "e259db5b-37f8-4032-a967-e19d79a4fff8",
   "metadata": {},
   "outputs": [],
   "source": [
    "import sympy"
   ]
  },
  {
   "cell_type": "code",
   "execution_count": 116,
   "id": "0acefd25-bac0-4653-b54c-0c2d1ae329c6",
   "metadata": {},
   "outputs": [],
   "source": [
    "oo = sympy.oo\n",
    "Re, α = sympy.symbols('R_e,α', real=True, positive=True)\n",
    "R, A, θ, b = sympy.symbols('R,A,θ,b', real=True)"
   ]
  },
  {
   "cell_type": "code",
   "execution_count": 117,
   "id": "51540aa0-0a74-4c92-84fb-a57101e697c4",
   "metadata": {},
   "outputs": [
    {
     "data": {
      "text/latex": [
       "$\\displaystyle A e^{- \\frac{R}{α}}$"
      ],
      "text/plain": [
       "A*exp(-R/α)"
      ]
     },
     "execution_count": 117,
     "metadata": {},
     "output_type": "execute_result"
    }
   ],
   "source": [
    "I = A * sympy.exp(-R/α)\n",
    "I"
   ]
  },
  {
   "cell_type": "code",
   "execution_count": 118,
   "id": "f1774141-a30e-4709-8f9e-7fc3e604dd6d",
   "metadata": {},
   "outputs": [
    {
     "data": {
      "text/latex": [
       "$\\displaystyle A α^{2}$"
      ],
      "text/plain": [
       "A*α**2"
      ]
     },
     "execution_count": 118,
     "metadata": {},
     "output_type": "execute_result"
    }
   ],
   "source": [
    "sympy.integrate(I*R, (R, 0, oo))"
   ]
  },
  {
   "cell_type": "code",
   "execution_count": 119,
   "id": "e6dc54a9-77ec-464a-80fa-8d9b871e6a66",
   "metadata": {},
   "outputs": [
    {
     "data": {
      "text/latex": [
       "$\\displaystyle \\int\\limits_{0}^{2 \\pi}\\int\\limits_{0}^{\\infty} A R e^{- \\frac{R}{α}}\\, dR\\, dθ$"
      ],
      "text/plain": [
       "Integral(A*R*exp(-R/α), (R, 0, oo), (θ, 0, 2*pi))"
      ]
     },
     "execution_count": 119,
     "metadata": {},
     "output_type": "execute_result"
    }
   ],
   "source": [
    "norm = sympy.Integral(sympy.Integral(I*R, (R, 0, oo)), (θ, 0, 2*sympy.pi))\n",
    "norm"
   ]
  },
  {
   "cell_type": "code",
   "execution_count": 120,
   "id": "4602006f-efcd-418e-a4ff-474a2332860d",
   "metadata": {},
   "outputs": [
    {
     "data": {
      "text/latex": [
       "$\\displaystyle 2 \\pi A α^{2}$"
      ],
      "text/plain": [
       "2*pi*A*α**2"
      ]
     },
     "execution_count": 120,
     "metadata": {},
     "output_type": "execute_result"
    }
   ],
   "source": [
    "norm.doit()"
   ]
  },
  {
   "cell_type": "code",
   "execution_count": 121,
   "id": "163afa02-7142-4683-9956-ac644a3717a5",
   "metadata": {},
   "outputs": [
    {
     "data": {
      "text/latex": [
       "$\\displaystyle A = \\frac{1}{2 \\pi α^{2}}$"
      ],
      "text/plain": [
       "Eq(A, 1/(2*pi*α**2))"
      ]
     },
     "execution_count": 121,
     "metadata": {},
     "output_type": "execute_result"
    }
   ],
   "source": [
    "Asoln = sympy.solve(sympy.Eq(norm.doit(), 1), A)[0]\n",
    "sympy.Eq(A, Asoln)"
   ]
  },
  {
   "cell_type": "code",
   "execution_count": 122,
   "id": "c5f7cc08-e1ef-4c5c-bdec-a6e346373031",
   "metadata": {},
   "outputs": [
    {
     "data": {
      "text/latex": [
       "$\\displaystyle \\int\\limits_{0}^{2 \\pi}\\int\\limits_{0}^{R_{e}} A R e^{- \\frac{R}{α}}\\, dR\\, dθ$"
      ],
      "text/plain": [
       "Integral(A*R*exp(-R/α), (R, 0, R_e), (θ, 0, 2*pi))"
      ]
     },
     "execution_count": 122,
     "metadata": {},
     "output_type": "execute_result"
    }
   ],
   "source": [
    "hlint = sympy.Integral(sympy.Integral(I*R, (R, 0, Re)), (θ, 0, 2*sympy.pi))\n",
    "hlint"
   ]
  },
  {
   "cell_type": "code",
   "execution_count": 123,
   "id": "c1e92864-a3f1-479a-8ecc-35c17c6ba436",
   "metadata": {},
   "outputs": [
    {
     "data": {
      "text/latex": [
       "$\\displaystyle \\int\\limits_{0}^{2 \\pi}\\int\\limits_{0}^{R_{e}} \\frac{R e^{- \\frac{R}{α}}}{2 \\pi α^{2}}\\, dR\\, dθ$"
      ],
      "text/plain": [
       "Integral(R*exp(-R/α)/(2*pi*α**2), (R, 0, R_e), (θ, 0, 2*pi))"
      ]
     },
     "execution_count": 123,
     "metadata": {},
     "output_type": "execute_result"
    }
   ],
   "source": [
    "hlints = hlint.subs(A, Asoln)\n",
    "hlints"
   ]
  },
  {
   "cell_type": "code",
   "execution_count": 124,
   "id": "4722a5a2-ec52-4859-8f3a-333937493230",
   "metadata": {},
   "outputs": [
    {
     "data": {
      "text/latex": [
       "$\\displaystyle \\frac{\\left(- R_{e} + α e^{\\frac{R_{e}}{α}} - α\\right) e^{- \\frac{R_{e}}{α}}}{α}$"
      ],
      "text/plain": [
       "(-R_e + α*exp(R_e/α) - α)*exp(-R_e/α)/α"
      ]
     },
     "execution_count": 124,
     "metadata": {},
     "output_type": "execute_result"
    }
   ],
   "source": [
    "sympy.simplify(hlints.doit())"
   ]
  },
  {
   "cell_type": "code",
   "execution_count": 125,
   "id": "6282d97b-1f19-4b5b-9af9-579d93d51cdd",
   "metadata": {},
   "outputs": [
    {
     "data": {
      "text/plain": [
       "[]"
      ]
     },
     "execution_count": 125,
     "metadata": {},
     "output_type": "execute_result"
    }
   ],
   "source": [
    "sympy.solve(Re, sympy.Eq(hlints.doit(), sympy.Rational(1,2)))"
   ]
  },
  {
   "cell_type": "markdown",
   "id": "d913b2c3-d217-4244-a245-641739e27cd8",
   "metadata": {},
   "source": [
    "b = Re/α"
   ]
  },
  {
   "cell_type": "code",
   "execution_count": 126,
   "id": "5a559700-0ad7-41e0-aca4-3e7a958c5414",
   "metadata": {},
   "outputs": [
    {
     "data": {
      "text/latex": [
       "$\\displaystyle \\left(- b + e^{b} - 1\\right) e^{- b}$"
      ],
      "text/plain": [
       "(-b + exp(b) - 1)*exp(-b)"
      ]
     },
     "execution_count": 126,
     "metadata": {},
     "output_type": "execute_result"
    }
   ],
   "source": [
    "sympy.simplify(hlints.doit().subs(α, Re/b))"
   ]
  },
  {
   "cell_type": "code",
   "execution_count": 127,
   "id": "6878b4d5-e628-4057-8dc2-562e4918d1f2",
   "metadata": {},
   "outputs": [
    {
     "data": {
      "text/plain": [
       "1.6783469900166605"
      ]
     },
     "execution_count": 127,
     "metadata": {},
     "output_type": "execute_result"
    }
   ],
   "source": [
    "bval = float(sympy.nsolve(sympy.simplify(hlints.doit().subs(α, Re/b))-sympy.Rational(1,2), b, 1))\n",
    "bval"
   ]
  },
  {
   "cell_type": "code",
   "execution_count": 128,
   "id": "90819f6e-8e35-47c8-abe8-892466a65dfc",
   "metadata": {},
   "outputs": [
    {
     "data": {
      "text/latex": [
       "$\\displaystyle \\frac{b^{2} e^{- \\frac{R b}{R_{e}}}}{2 \\pi R_{e}^{2}}$"
      ],
      "text/plain": [
       "b**2*exp(-R*b/R_e)/(2*pi*R_e**2)"
      ]
     },
     "execution_count": 128,
     "metadata": {},
     "output_type": "execute_result"
    }
   ],
   "source": [
    "I.subs(A, Asoln).subs(α, Re/b)"
   ]
  }
 ],
 "metadata": {
  "kernelspec": {
   "display_name": "Python 3 (ipykernel)",
   "language": "python",
   "name": "python3"
  },
  "language_info": {
   "codemirror_mode": {
    "name": "ipython",
    "version": 3
   },
   "file_extension": ".py",
   "mimetype": "text/x-python",
   "name": "python",
   "nbconvert_exporter": "python",
   "pygments_lexer": "ipython3",
   "version": "3.12.5"
  }
 },
 "nbformat": 4,
 "nbformat_minor": 5
}
