{
 "cells": [
  {
   "cell_type": "markdown",
   "id": "40a52757",
   "metadata": {},
   "source": [
    "See [circular_exp_fitting](circular_exp_fitting.ipynb)  and  [sersic_integral_experiments](sersic_integral_experiments.ipynb) for prior art"
   ]
  },
  {
   "cell_type": "code",
   "execution_count": 81,
   "id": "996d77a7",
   "metadata": {},
   "outputs": [],
   "source": [
    "import numpy as np\n",
    "\n",
    "from scipy import special\n",
    "\n",
    "import sympy\n",
    "\n",
    "import regions"
   ]
  },
  {
   "cell_type": "code",
   "execution_count": 82,
   "id": "63f45454-513a-459b-855b-4cc5b8ff46df",
   "metadata": {},
   "outputs": [],
   "source": [
    "from matplotlib import pyplot as plt\n",
    "%matplotlib inline"
   ]
  },
  {
   "cell_type": "code",
   "execution_count": 83,
   "id": "d77e8193",
   "metadata": {},
   "outputs": [],
   "source": [
    "TWOPI = 2*np.pi\n",
    "ICOEFFS = [2, -1/3, 4/405, 46/25515, 131/1148175, -2194697/30690717750]\n",
    "\n",
    "def f_bn(n):\n",
    "    \"\"\"\n",
    "    Ciotti and Bertin 99, valid for n >~ 0.36\n",
    "    \"\"\"\n",
    "    return np.sum([C*n**(1-i) for i, C in enumerate(ICOEFFS)], axis=0)\n",
    "\n",
    "def sersic_profile(R, Ie, Re, n):\n",
    "    bn = f_bn(n)\n",
    "    return Ie * np.exp(-bn*((R/Re)**(1/n)-1))\n",
    "\n",
    "def log_sersic_profile(R, Ie, Re, n):\n",
    "    bn = f_bn(n)\n",
    "    return np.log(Ie) - bn*((R/Re)**(1/n)-1)"
   ]
  },
  {
   "cell_type": "markdown",
   "id": "b71f04ba",
   "metadata": {},
   "source": [
    "Now implement technique 5 for the sersic integral from sersic_integral_experiments"
   ]
  },
  {
   "cell_type": "code",
   "execution_count": 84,
   "id": "772b18ff",
   "metadata": {},
   "outputs": [],
   "source": [
    "def make_grid_Iweighted(nr, nphi, outerr, Re, n):\n",
    "    bn_val = f_bn(n)\n",
    "\n",
    "    gamma2 = special.gammainc(2*n, outerr**(1/n) * Re**(-1/n) * bn_val)\n",
    "\n",
    "    u = np.linspace(0, 1, nr)\n",
    "    r = Re * (special.gammaincinv(2*n, u * gamma2) / bn_val)**n\n",
    "    phi = np.linspace(0, 2*np.pi, nphi+1)[:-1]\n",
    "\n",
    "    return np.meshgrid(r, phi)\n",
    "\n",
    "def sersic_integral(Re, n, region, x0=0, y0=0, nr=100, nphi=100):\n",
    "    \"\"\"\n",
    "    Note the the region, Re, x0, and y0 should all be in pixels\n",
    "    \"\"\"\n",
    "\n",
    "    outerr = np.max(np.abs(region.bounding_box.extent))\n",
    "    outer_integ = sersic_integral(outerr, Re, n)\n",
    "\n",
    "    r, phi = make_grid_Iweighted(nr, nphi, outerr, Re, n)\n",
    "    xg = r*np.cos(phi) + x0\n",
    "    yg = r*np.sin(phi) + y0\n",
    "    msk = region.contains(regions.PixCoord(x=xg, y=yg))\n",
    "\n",
    "    frac_in_grid = np.sum(msk)/msk.size\n",
    "\n",
    "    return outer_integ * frac_in_grid"
   ]
  },
  {
   "cell_type": "markdown",
   "id": "94a81e3e",
   "metadata": {},
   "source": [
    "Not clear if we should be sampling from the areal sersic function or the sersic function itself.  Fortunately they are very similar:"
   ]
  },
  {
   "cell_type": "code",
   "execution_count": null,
   "id": "a75e04ea",
   "metadata": {},
   "outputs": [],
   "source": [
    "R, Ie, Re, n, bn, R1 = sympy.symbols('R, I_e, R_e, n, b_n, R_1', real=True, positive=True)\n",
    "sersic = Ie * sympy.exp(-bn*((R/Re)**(1/n)-1))\n",
    "\n",
    "R1, R2 = sympy.symbols('R1, R2', real=True, positive=True)\n",
    "normalized_integral = sympy.simplify(sympy.integrate(sersic, (R,0, R1)) / sympy.integrate(sersic, (R,0, R2)))\n",
    "normalized_integral"
   ]
  },
  {
   "cell_type": "markdown",
   "id": "62b16a17",
   "metadata": {},
   "source": [
    "Which is the same as areal except it's $n$ instead of $2n$"
   ]
  },
  {
   "cell_type": "code",
   "execution_count": 86,
   "id": "402aecad",
   "metadata": {},
   "outputs": [],
   "source": [
    "def get_sersic_r(npoints, outerr, Re, n, rstate=np.random.default_rng(), areal=False):\n",
    "    bn_val = f_bn(n)\n",
    "\n",
    "    gammaparam = 2*n if areal else n\n",
    "\n",
    "    gamma2 = special.gammainc(gammaparam, outerr**(1/n) * Re**(-1/n) * bn_val)\n",
    "\n",
    "    u = rstate.uniform(size=npoints)\n",
    "    r = Re * (special.gammaincinv(gammaparam, u * gamma2) / bn_val)**n\n",
    "\n",
    "    return r"
   ]
  },
  {
   "cell_type": "code",
   "execution_count": null,
   "id": "a90272d6",
   "metadata": {},
   "outputs": [],
   "source": [
    "\n",
    "plt.hist(get_sersic_r(100000, 3, 1, 1.5, areal=True), bins='auto', histtype='step', density=True, log=True)\n",
    "plt.hist(get_sersic_r(100000, np.inf, 1, 1.5, areal=True), bins='auto', histtype='step', density=True, log=True)\n",
    "plt.hist(get_sersic_r(100000, 3, .5, 1.5, areal=True), bins='auto', histtype='step', density=True, log=True)\n",
    "plt.hist(get_sersic_r(100000, 3, 1, 4., areal=True), bins='auto', histtype='step', density=True, log=True)\n",
    "plt.xlim(0, 5);\n",
    "plt.ylim(10**-2.5, 2);"
   ]
  },
  {
   "cell_type": "code",
   "execution_count": null,
   "id": "a9ed80ce",
   "metadata": {},
   "outputs": [],
   "source": [
    "plt.hist(get_sersic_r(100000, 3, 1, 1.5, areal=False), bins='auto', histtype='step', density=True, log=True)\n",
    "plt.hist(get_sersic_r(100000, np.inf, 1, 1.5, areal=False), bins='auto', histtype='step', density=True, log=True)\n",
    "plt.hist(get_sersic_r(100000, 3, .5, 1.5, areal=False), bins='auto', histtype='step', density=True, log=True)\n",
    "plt.hist(get_sersic_r(100000, 3, 1, 4., areal=False), bins='auto', histtype='step', density=True, log=True)\n",
    "plt.xlim(0, 5);"
   ]
  },
  {
   "cell_type": "code",
   "execution_count": null,
   "id": "30a13d70",
   "metadata": {},
   "outputs": [],
   "source": []
  },
  {
   "cell_type": "code",
   "execution_count": null,
   "id": "70cd81de",
   "metadata": {},
   "outputs": [],
   "source": []
  },
  {
   "cell_type": "code",
   "execution_count": null,
   "id": "84c13cae",
   "metadata": {},
   "outputs": [],
   "source": []
  },
  {
   "cell_type": "code",
   "execution_count": null,
   "id": "942c5f30",
   "metadata": {},
   "outputs": [],
   "source": []
  },
  {
   "cell_type": "code",
   "execution_count": null,
   "id": "73e1434f",
   "metadata": {},
   "outputs": [],
   "source": []
  },
  {
   "cell_type": "code",
   "execution_count": null,
   "id": "932a1a0c-7b92-4dd2-8743-635064747d42",
   "metadata": {},
   "outputs": [],
   "source": [
    "def generate_unif_box(n=None, halfsize=1, density=None, rstate=np.random.RandomState()):\n",
    "    if n is not None and density is not None:\n",
    "        raise ValueError('cannot give both n and density')\n",
    "    elif density is not None:\n",
    "        A = (halfsize*2)**2\n",
    "        n = density * A\n",
    "        \n",
    "    if n != int(n):\n",
    "        remainder = n - int(n)\n",
    "        n = int(n)\n",
    "        if np.random.rand(1)[0] < remainder:\n",
    "            n += 1\n",
    "    else:\n",
    "        n = int(n)\n",
    "        \n",
    "    x = rstate.uniform(-halfsize, halfsize, n)\n",
    "    y = rstate.uniform(-halfsize, halfsize, n)\n",
    "\n",
    "    return x, y\n",
    "\n",
    "def uniform_in_region(density, region, rstate=np.random.RandomState()):\n",
    "    maxpx = np.max(region.bounding_box.extent)\n",
    "    xs, ys = generate_unif_box(halfsize=maxpx, density=density, rstate=rstate)\n",
    "    msk = region.contains(PixCoord(xs, ys))\n",
    "\n",
    "    return xs[msk], ys[msk]\n",
    "\n",
    "def expinteg(F, Re, b=BVAL):\n",
    "    sc = np.isscalar(F)\n",
    "    res = np.atleast_1d(-Re*(lambertw((F-1)/np.exp(1), -1).real + 1)/b)\n",
    "    res.ravel()[np.isnan(res.ravel())] = 0\n",
    "    return res[0] if sc else res\n",
    "    \n",
    "def generate_exp_dglx(n=None, Re=1, density=None, region=None, rstate=np.random.RandomState()):\n",
    "    if n is not None and density is not None:\n",
    "        raise ValueError('cannot give both n and density')\n",
    "    elif density is not None:\n",
    "        # density is the mean density within the HLR\n",
    "        hA = np.pi*Re**2\n",
    "        n = 2* density * hA\n",
    "        \n",
    "    if n != int(n):\n",
    "        remainder = n - int(n)\n",
    "        n = int(n)\n",
    "        if np.random.rand(1)[0] < remainder:\n",
    "            n += 1\n",
    "    else:\n",
    "        n = int(n)\n",
    "        \n",
    "    U = rstate.uniform(0, 1, n)\n",
    "    r = expinteg(U, Re)\n",
    "    phi = rstate.uniform(0, 2*np.pi, n)\n",
    "\n",
    "    x = np.cos(phi)*r\n",
    "    y = np.sin(phi)*r\n",
    "\n",
    "    if region is not None:\n",
    "        msk = region.contains(PixCoord(x, y))\n",
    "        x = x[msk]\n",
    "        y = y[msk]\n",
    "\n",
    "    return x, y"
   ]
  },
  {
   "cell_type": "code",
   "execution_count": 5,
   "id": "f5f3c9cf-403b-4949-a6ec-efef95fe9453",
   "metadata": {},
   "outputs": [],
   "source": [
    "def glx_and_uniform(glx_hdensity, bkg_density, region, Re=1, rstate=np.random.RandomState()):\n",
    "    g = generate_exp_dglx(density=glx_hdensity, Re=Re, region=region, rstate=rstate)\n",
    "    b = uniform_in_region(bkg_density, region=region, rstate=rstate)\n",
    "\n",
    "    return np.concatenate((g, b), axis=1), g, b"
   ]
  },
  {
   "cell_type": "code",
   "execution_count": null,
   "id": "5f2c6434",
   "metadata": {},
   "outputs": [],
   "source": [
    "offset_region1 = RectanglePixelRegion(PixCoord(2, 3), 2, 3)\n",
    "offset_region2 = RectanglePixelRegion(PixCoord(0, -1), 6, 6)\n",
    "poly_region = PolygonPixelRegion(PixCoord([-3, -3, 3, 3, 1, 1, -3], [2, -4, -4, 5, 5, 3, 2]))\n",
    "\n",
    "offset_region1.plot()\n",
    "offset_region2.plot()\n",
    "poly_region.plot(color='red')\n",
    "plt.xlim(-10, 10)\n",
    "plt.ylim(-10, 10)"
   ]
  },
  {
   "cell_type": "code",
   "execution_count": 7,
   "id": "1ca560bb-dbb9-46ae-bab1-e81d05609bb3",
   "metadata": {},
   "outputs": [],
   "source": [
    "circular_large_reg = CirclePixelRegion(PixCoord(0, 0), 10)\n",
    "circular_small_reg = CirclePixelRegion(PixCoord(0, 0), 3)\n",
    "rectangular_large_reg = RectanglePixelRegion(PixCoord(0, 0), 20, 20)\n",
    "rectangular_small_reg = RectanglePixelRegion(PixCoord(0, 0), 6, 6)\n",
    "\n",
    "offset_region1 = RectanglePixelRegion(PixCoord(2, 3), 2, 3)\n",
    "offset_region2 = RectanglePixelRegion(PixCoord(0, -1), 6, 6)\n",
    "offset_regions = offset_region1 | offset_region2\n",
    "\n",
    "offset_poly_region = PolygonPixelRegion(PixCoord([-3, -3, 3, 3, 1, 1, -3], [2, -4, -4, 5, 5, 3, 2]))\n",
    "\n",
    "all_regions = {nm: globals()[nm] for nm in 'circular_large_reg,circular_small_reg,rectangular_large_reg,rectangular_small_reg,offset_poly_region'.split(',')}"
   ]
  },
  {
   "cell_type": "markdown",
   "id": "4300cf31-04e2-46c9-87d5-4c323cfac30b",
   "metadata": {},
   "source": [
    "# Set up fitting code\n",
    "\n",
    "`region` is a fixed region - if None the integrals are implied to infity.\n",
    "\n",
    "Parameters:\n",
    "* x0, y0 -> center\n",
    "* Re -> half-light radius\n",
    "* fbkg -> background fraction of all the stars"
   ]
  },
  {
   "cell_type": "code",
   "execution_count": 8,
   "id": "1473712d-ce56-4821-ac8d-63ba028d7b72",
   "metadata": {},
   "outputs": [],
   "source": [
    "import dynesty\n",
    "from dynesty import plotting as dyplot\n",
    "\n",
    "param_names = 'x0, y0, Re, fbkg'.split(', ')"
   ]
  },
  {
   "cell_type": "markdown",
   "id": "89a75af7-4cbe-42fe-badc-b82694b8e0f7",
   "metadata": {},
   "source": [
    "Derive the bounded scale-free prior generator"
   ]
  },
  {
   "cell_type": "code",
   "execution_count": null,
   "id": "85b2d20b-f4b2-4668-956e-f826750e4089",
   "metadata": {},
   "outputs": [],
   "source": [
    "σ, x, a, b, A, F = sympy.symbols('σ,x,a,b,A,F', real=True, positive=True)\n",
    "Asoln = sympy.solve(sympy.integrate(A/σ,(σ,a,b)) - 1, A)[0]\n",
    "sympy.solve(sympy.integrate(A/σ,(σ,a,x)).subs(A, Asoln) - F, x)[0]"
   ]
  },
  {
   "cell_type": "markdown",
   "id": "2fc9e80c-c008-4c5b-b7ee-700300dd96a2",
   "metadata": {},
   "source": [
    "Prior below is that x0, y0 are on U[-1, 1], Re is scale-free on [.01, 100], fbkg is U[.1, .9]"
   ]
  },
  {
   "cell_type": "code",
   "execution_count": 10,
   "id": "3917f525-ffc5-4ade-8ca5-e0ba41e7b931",
   "metadata": {},
   "outputs": [],
   "source": [
    "uppri = 100\n",
    "lpri = .01\n",
    "\n",
    "def prior_transform(u):\n",
    "    x = np.empty_like(u)\n",
    "    x[:2] = u[:2]*2 -1\n",
    "    x[2] = lpri**(1-u[2]) * uppri**u[2]\n",
    "    x[3] = u[3]*.8 + .1\n",
    "\n",
    "    return x"
   ]
  },
  {
   "cell_type": "code",
   "execution_count": null,
   "id": "f6dd2c95",
   "metadata": {},
   "outputs": [],
   "source": [
    "test_region = circular_large_reg\n",
    "test_data, tg, tb = glx_and_uniform(25, 2, test_region)\n",
    "truths = [0, 0, 1, -1]\n",
    "\n",
    "truths[-1] = len(tb[0])/(len(tb[0]) + len(tg[0]))\n",
    "\n",
    "len(tg[0]), len(tb[0]), truths[-1]"
   ]
  },
  {
   "cell_type": "code",
   "execution_count": 12,
   "id": "50c10bf7-a653-477b-bf4a-9efe8032aa4f",
   "metadata": {},
   "outputs": [],
   "source": [
    "LTWOPI = np.log(TWOPI)\n",
    "\n",
    "def loglike(p, data, area):\n",
    "    x0, y0, Re, fbkg = p\n",
    "    x, y = data\n",
    "    α = Re/BVAL\n",
    "\n",
    "    r = np.hypot(x-x0, y-y0)\n",
    "    lgal = np.log(1-fbkg) - 2*np.log(α) - r/α - LTWOPI\n",
    "    lbkg = np.log(fbkg/area)\n",
    "    ll = np.logaddexp(lgal, lbkg)\n",
    "\n",
    "    return np.sum(ll)\n",
    "    "
   ]
  },
  {
   "cell_type": "code",
   "execution_count": null,
   "id": "7d9e2da7",
   "metadata": {},
   "outputs": [],
   "source": [
    "with dynesty.pool.Pool(16, loglike, prior_transform,\n",
    "                                logl_kwargs={'data': test_data, 'area':test_region.area},\n",
    "                      ) as pool:\n",
    "    dsampler = dynesty.DynamicNestedSampler(pool.loglike, pool.prior_transform, pool=pool,\n",
    "                                            ndim=len(param_names),sample='rslice')\n",
    "    dsampler.run_nested(maxiter=100000,  wt_kwargs={'pfrac': 1.0})"
   ]
  },
  {
   "cell_type": "code",
   "execution_count": null,
   "id": "0ba848da-d423-4738-9ef8-035235a0b672",
   "metadata": {},
   "outputs": [],
   "source": [
    "fig, axes = dyplot.runplot(dsampler.results)\n",
    "\n",
    "span = [1,1, .95, .95]\n",
    "\n",
    "fig, axes = dyplot.traceplot(dsampler.results, labels=param_names, truths=truths,span=span)\n",
    "fig, axes = dyplot.cornerplot(dsampler.results, labels=param_names, truths=truths,span=span)\n",
    "fig, axes = dyplot.cornerpoints(dsampler.results, labels=param_names, truths=truths)"
   ]
  },
  {
   "cell_type": "code",
   "execution_count": null,
   "id": "873c2588",
   "metadata": {},
   "outputs": [],
   "source": [
    "results = {}\n",
    "truths = {}\n",
    "for regnm, test_region in all_regions.items():\n",
    "    print(regnm)\n",
    "    \n",
    "    test_data, tg, tb = glx_and_uniform(25, 2, test_region)\n",
    "    truths[regnm] = [0, 0, 1, len(tb[0])/(len(tb[0]) + len(tg[0]))]\n",
    "\n",
    "    with dynesty.pool.Pool(16, loglike, prior_transform,\n",
    "                                logl_kwargs={'data': test_data, 'area':test_region.area},\n",
    "                      ) as pool:\n",
    "        dsampler = dynesty.DynamicNestedSampler(pool.loglike, pool.prior_transform, pool=pool,\n",
    "                                                ndim=len(param_names),sample='rslice')\n",
    "        dsampler.run_nested(maxiter=100000,  wt_kwargs={'pfrac': 1.0})\n",
    "    results[regnm] = dsampler.results"
   ]
  },
  {
   "cell_type": "code",
   "execution_count": null,
   "id": "b11547a3",
   "metadata": {},
   "outputs": [],
   "source": [
    "for nm, res in results.items():\n",
    "    fig, axes = dyplot.cornerplot(res, labels=param_names, truths=truths[nm])\n",
    "    axes[0][0].text(.7,.8, nm, transform=fig.transFigure)"
   ]
  }
 ],
 "metadata": {
  "kernelspec": {
   "display_name": "Python 3 (ipykernel)",
   "language": "python",
   "name": "python3"
  },
  "language_info": {
   "codemirror_mode": {
    "name": "ipython",
    "version": 3
   },
   "file_extension": ".py",
   "mimetype": "text/x-python",
   "name": "python",
   "nbconvert_exporter": "python",
   "pygments_lexer": "ipython3",
   "version": "3.12.5"
  }
 },
 "nbformat": 4,
 "nbformat_minor": 5
}
