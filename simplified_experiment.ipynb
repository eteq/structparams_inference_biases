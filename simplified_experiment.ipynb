{
 "cells": [
  {
   "cell_type": "markdown",
   "id": "b357e139-60f7-4a44-8873-db10f8c362a7",
   "metadata": {},
   "source": [
    "Try an extremely simple model: two circles, sampled from two populations, and try to scope out the oddities in the mixture model."
   ]
  },
  {
   "cell_type": "code",
   "execution_count": null,
   "id": "31b9fc21-43c3-4bc0-bf6b-541780a1d994",
   "metadata": {},
   "outputs": [],
   "source": [
    "# needed on macs due to subtle multiprocessing differences used in dynesty\n",
    "import sys\n",
    "import multiprocessing\n",
    "if sys.platform == 'darwin':\n",
    "    multiprocessing.set_start_method('fork')\n",
    "\n",
    "njobs = multiprocessing.cpu_count()  # might need to be modified for optimal behavior on a specific machine - e.g. computers with fast and slow cores\n",
    "njobs"
   ]
  },
  {
   "cell_type": "code",
   "execution_count": null,
   "id": "1abda28e-0a62-4c55-82b1-82081fec5e7b",
   "metadata": {},
   "outputs": [],
   "source": [
    "import math\n",
    "\n",
    "import numpy as np\n",
    "np.seterr(invalid='ignore')"
   ]
  },
  {
   "cell_type": "code",
   "execution_count": null,
   "id": "7e8fd40e-5786-4b9d-8dbf-6c1ac6f710ac",
   "metadata": {},
   "outputs": [],
   "source": [
    "from matplotlib import pyplot as plt\n",
    "from IPython.display import display\n",
    "%matplotlib agg"
   ]
  },
  {
   "cell_type": "code",
   "execution_count": null,
   "id": "6c9635f8-b134-4b94-a3a3-8ef0bbb7061f",
   "metadata": {},
   "outputs": [],
   "source": [
    "def produce_uniform_circle(outerr, density):\n",
    "    x, y = np.random.rand(2, int(density*4*outerr**2)) * outerr*2 - outerr\n",
    "    r = np.hypot(x,y)\n",
    "    msk = r< outerr\n",
    "    return np.array((x[msk], y[msk]))"
   ]
  },
  {
   "cell_type": "code",
   "execution_count": null,
   "id": "febd8443-290c-4ee1-b792-719650e2cb50",
   "metadata": {},
   "outputs": [],
   "source": [
    "def likelihood(rinner, fouter, router, data):\n",
    "    x, y = data\n",
    "    r = np.hypot(x, y)\n",
    "    \n",
    "    innerarea = np.pi*rinner**2\n",
    "    outerarea = np.pi*router**2\n",
    "    lfg0 = (1-fouter)/innerarea\n",
    "    lbkg0 = fouter/outerarea\n",
    "\n",
    "    return lfg0*np.sum(r<=rinner, axis=-1)[..., np.newaxis] + lbkg0*len(r)\n",
    "    "
   ]
  },
  {
   "cell_type": "code",
   "execution_count": null,
   "id": "9a3b241a-4e1e-4c41-9555-b97ba7702f21",
   "metadata": {},
   "outputs": [],
   "source": [
    "fgg[5][0]"
   ]
  },
  {
   "cell_type": "code",
   "execution_count": null,
   "id": "33fe3b67-4c68-457e-a8d2-f3276701dd32",
   "metadata": {},
   "outputs": [],
   "source": [
    "rinnertrue = 1\n",
    "router = 3\n",
    "\n",
    "fg = produce_uniform_circle(rinnertrue, 250)\n",
    "bg = produce_uniform_circle(router, 20)\n",
    "both = np.concatenate((fg, bg), axis=1)\n",
    "\n",
    "ftrue = bg.shape[1]/both.shape[1]\n",
    "\n",
    "ris = np.linspace(0.1, 2, 100000)\n",
    "fouter = np.linspace(0, 1, 10)\n",
    "rg, fgg = np.meshgrid(ris, fouter)\n",
    "\n",
    "lg = likelihood(rg[..., np.newaxis], fgg[..., np.newaxis], router, both)[..., 0]\n",
    "\n",
    "fig = plt.figure(figsize=(8,8))\n",
    "plt.pcolor(rg, fgg, np.log(lg))\n",
    "plt.axvline(rinnertrue, c='r', ls=':')\n",
    "plt.axhline(ftrue, c='r', ls=':')\n",
    "plt.xlabel('rinner')\n",
    "plt.ylabel('fouter')\n",
    "plt.colorbar().set_label('log like')\n",
    "display(fig)\n",
    "plt.close()\n",
    "\n",
    "\n",
    "fig = plt.figure(figsize=(8,8))\n",
    "\n",
    "for idx in [0, lg.shape[0]//2, -1]:\n",
    "    m = np.mean(lg[idx])\n",
    "    p = plt.plot(rg[idx], lg[idx]/m, label=f'{idx}, mean={m}')\n",
    "plt.plot(rg[idx], np.pi/(np.pi*rg[idx]**2), ls=':', lw=1, c='k')\n",
    "plt.axvline(rinnertrue, c='r', ls=':', label='$r^{-2}$')\n",
    "plt.ylim(0, 3)\n",
    "plt.legend(loc=0)\n",
    "\n",
    "display(fig)\n",
    "plt.close()"
   ]
  },
  {
   "cell_type": "markdown",
   "id": "03c4c1a1-a109-4c93-ba7f-dff446a42b15",
   "metadata": {},
   "source": [
    "Uhm... huh..."
   ]
  }
 ],
 "metadata": {
  "kernelspec": {
   "display_name": "Python 3 (ipykernel)",
   "language": "python",
   "name": "python3"
  },
  "language_info": {
   "codemirror_mode": {
    "name": "ipython",
    "version": 3
   },
   "file_extension": ".py",
   "mimetype": "text/x-python",
   "name": "python",
   "nbconvert_exporter": "python",
   "pygments_lexer": "ipython3",
   "version": "3.12.5"
  }
 },
 "nbformat": 4,
 "nbformat_minor": 5
}
