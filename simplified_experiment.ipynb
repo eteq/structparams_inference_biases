{
 "cells": [
  {
   "cell_type": "markdown",
   "id": "b357e139-60f7-4a44-8873-db10f8c362a7",
   "metadata": {},
   "source": [
    "Try an extremely simple model: two circles, sampled from two populations, and try to scope out the oddities in the mixture model."
   ]
  },
  {
   "cell_type": "code",
   "execution_count": null,
   "id": "31b9fc21-43c3-4bc0-bf6b-541780a1d994",
   "metadata": {},
   "outputs": [],
   "source": [
    "# needed on macs due to subtle multiprocessing differences used in dynesty\n",
    "import sys\n",
    "import multiprocessing\n",
    "if sys.platform == 'darwin':\n",
    "    multiprocessing.set_start_method('fork')\n",
    "\n",
    "njobs = multiprocessing.cpu_count()  # might need to be modified for optimal behavior on a specific machine - e.g. computers with fast and slow cores\n",
    "njobs"
   ]
  },
  {
   "cell_type": "code",
   "execution_count": null,
   "id": "1abda28e-0a62-4c55-82b1-82081fec5e7b",
   "metadata": {},
   "outputs": [],
   "source": [
    "import math\n",
    "\n",
    "import numpy as np\n",
    "np.seterr(invalid='ignore')\n",
    "\n",
    "from scipy import stats\n",
    "\n",
    "from tqdm.notebook import tqdm"
   ]
  },
  {
   "cell_type": "code",
   "execution_count": null,
   "id": "7e8fd40e-5786-4b9d-8dbf-6c1ac6f710ac",
   "metadata": {},
   "outputs": [],
   "source": [
    "from matplotlib import pyplot as plt\n",
    "from IPython.display import display\n",
    "%matplotlib agg"
   ]
  },
  {
   "cell_type": "code",
   "execution_count": null,
   "id": "6c9635f8-b134-4b94-a3a3-8ef0bbb7061f",
   "metadata": {},
   "outputs": [],
   "source": [
    "def produce_uniform_circle(outerr, density):\n",
    "    x, y = np.random.rand(2, int(density*4*outerr**2)) * outerr*2 - outerr\n",
    "    r = np.hypot(x,y)\n",
    "    msk = r< outerr\n",
    "    return np.array((x[msk], y[msk]))"
   ]
  },
  {
   "cell_type": "code",
   "execution_count": null,
   "id": "b38bad33-892c-42f1-8be4-f33a3201ec03",
   "metadata": {},
   "outputs": [],
   "source": [
    "def loglikelihood(rinner, fouter, router, data):\n",
    "    x, y = data\n",
    "    r = np.hypot(x, y)\n",
    "    \n",
    "    innerarea = np.pi*rinner**2\n",
    "    outerarea = np.pi*router**2\n",
    "    lfg0 = (1-fouter)/innerarea\n",
    "    lbkg0 = fouter/outerarea\n",
    "\n",
    "    return np.sum(np.log(lfg0*(r<=rinner) + lbkg0*len(r)), axis=-1)"
   ]
  },
  {
   "cell_type": "code",
   "execution_count": null,
   "id": "d2b9ac24-0b99-461c-93b6-d7588bc767e3",
   "metadata": {},
   "outputs": [],
   "source": [
    "rinnertrue = 1\n",
    "router = 3\n",
    "\n",
    "fg = produce_uniform_circle(rinnertrue, 25)\n",
    "bg = produce_uniform_circle(router, 2)\n",
    "both = np.concatenate((fg, bg), axis=1)\n",
    "\n",
    "ftrue = bg.shape[1]/both.shape[1]\n",
    "\n",
    "ris = np.linspace(0.1, 2, 100000)\n",
    "fouter = np.linspace(0, 1, 11)[1:]\n",
    "rg, fgg = np.meshgrid(ris, fouter)\n",
    "\n",
    "lg = loglikelihood(rg[..., np.newaxis], fgg[..., np.newaxis], router, both)\n",
    "\n",
    "fig = plt.figure(figsize=(8,8))\n",
    "plt.pcolor(rg, fgg, lg)\n",
    "plt.axvline(rinnertrue, c='r', ls=':')\n",
    "plt.axhline(ftrue, c='r', ls=':')\n",
    "plt.xlabel('rinner')\n",
    "plt.ylabel('fouter')\n",
    "plt.colorbar().set_label('log like')\n",
    "display(fig)\n",
    "plt.close()\n",
    "\n",
    "\n",
    "fig = plt.figure(figsize=(8,8))\n",
    "\n",
    "for idx in [0, lg.shape[0]//2, -2, -1]:\n",
    "    mx = np.max(lg[idx])\n",
    "    mi = np.min(lg[idx])\n",
    "    m = np.mean(lg[idx])\n",
    "    lscaled = (lg[idx] - mi)/(mx-mi)\n",
    "    p = plt.plot(rg[idx], lscaled, label=f'{idx}, mean={m}')\n",
    "#plt.plot(rg[idx], np.pi/(np.pi*rg[idx]**2), ls=':', lw=1, c='k', label='$r^{-2}$')\n",
    "plt.axvline(rinnertrue, c='r', ls=':')\n",
    "plt.ylim(-0.01, 1.01)\n",
    "plt.legend(loc=0)\n",
    "\n",
    "display(fig)\n",
    "plt.close()"
   ]
  },
  {
   "cell_type": "code",
   "execution_count": null,
   "id": "95a3a6bb-d2e5-4733-b75c-e495aab20776",
   "metadata": {},
   "outputs": [],
   "source": [
    "rinnertrue = 1\n",
    "router = 3\n",
    "\n",
    "fg = produce_uniform_circle(rinnertrue, 250)\n",
    "bg = produce_uniform_circle(router, 20)\n",
    "both = np.concatenate((fg, bg), axis=1)\n",
    "\n",
    "ftrue = bg.shape[1]/both.shape[1]\n",
    "\n",
    "ris = np.linspace(0.1, 2, 100000)\n",
    "fouter = np.linspace(0, 1, 11)[1:]\n",
    "rg, fgg = np.meshgrid(ris, fouter)\n",
    "\n",
    "lg = loglikelihood(rg[..., np.newaxis], fgg[..., np.newaxis], router, both)\n",
    "\n",
    "fig = plt.figure(figsize=(8,8))\n",
    "plt.pcolor(rg, fgg, lg)\n",
    "plt.axvline(rinnertrue, c='r', ls=':')\n",
    "plt.axhline(ftrue, c='r', ls=':')\n",
    "plt.xlabel('rinner')\n",
    "plt.ylabel('fouter')\n",
    "plt.colorbar().set_label('log like')\n",
    "display(fig)\n",
    "plt.close()\n",
    "\n",
    "\n",
    "fig = plt.figure(figsize=(8,8))\n",
    "\n",
    "for idx in [0, lg.shape[0]//2, -2, -1]:\n",
    "    mx = np.max(lg[idx])\n",
    "    mi = np.min(lg[idx])\n",
    "    m = np.mean(lg[idx])\n",
    "    lscaled = (lg[idx] - mi)/(mx-mi)\n",
    "    p = plt.plot(rg[idx], lscaled, label=f'{idx}, mean={m}')\n",
    "#plt.plot(rg[idx], np.pi/(np.pi*rg[idx]**2), ls=':', lw=1, c='k', label='$r^{-2}$')\n",
    "plt.axvline(rinnertrue, c='r', ls=':')\n",
    "plt.ylim(-0.01, 1.01)\n",
    "plt.legend(loc=0)\n",
    "\n",
    "display(fig)\n",
    "plt.close()"
   ]
  },
  {
   "cell_type": "markdown",
   "id": "23bfc51b-770a-4cc9-90ae-4d05559b1c71",
   "metadata": {},
   "source": [
    "Compare to a binned approach"
   ]
  },
  {
   "cell_type": "code",
   "execution_count": null,
   "id": "6ecbc833-caae-420b-a700-34b806ed836d",
   "metadata": {},
   "outputs": [],
   "source": [
    "r = np.hypot(*both)\n",
    "n, be = np.histogram(r, bins=100)\n",
    "bm = (be[1:]+be[:-1])/2\n",
    "darea = 2*np.pi*np.diff(be)*bm\n",
    "\n",
    "fig = plt.figure()\n",
    "plt.step(bm, n/darea)\n",
    "plt.close();fig"
   ]
  },
  {
   "cell_type": "code",
   "execution_count": null,
   "id": "89304087-9617-4309-89f3-c68e00e320ba",
   "metadata": {},
   "outputs": [],
   "source": [
    "ris = np.linspace(0.1, 2, 10000)\n",
    "fouter = np.linspace(0, 1, 21)[1:]"
   ]
  },
  {
   "cell_type": "code",
   "execution_count": null,
   "id": "6372f5c0-a23f-4132-a6ab-28a4260ddacf",
   "metadata": {},
   "outputs": [],
   "source": [
    "rg, fgg = np.meshgrid(ris, fouter)\n",
    "rg = rg[..., np.newaxis]\n",
    "fgg = fgg[..., np.newaxis]\n",
    "\n",
    "totaldensity = r.shape[0]/(np.pi*router**2)\n",
    "outerdensity = totaldensity*fgg\n",
    "innerdensity = totaldensity*(1-fgg)\n",
    "\n",
    "npred = darea*innerdensity*(bm<=rg) + outerdensity*darea\n",
    "probgrid = stats.poisson(mu=npred).logpmf(n)\n",
    "probgrid.shape"
   ]
  },
  {
   "cell_type": "code",
   "execution_count": null,
   "id": "15c6affb-7e07-4158-bf70-7d08e8582c97",
   "metadata": {},
   "outputs": [],
   "source": [
    "llike = np.sum(probgrid, axis=-1)\n",
    "\n",
    "fig = plt.figure(figsize=(10, 10))\n",
    "plt.pcolor(rg[..., 0], fgg[..., 0], np.exp(llike/probgrid.shape[-1]))\n",
    "plt.colorbar().set_label('log like')\n",
    "plt.axvline(rinnertrue, c='r', ls=':')\n",
    "plt.axhline(ftrue, c='r', ls=':')\n",
    "\n",
    "plt.close();fig"
   ]
  }
 ],
 "metadata": {
  "kernelspec": {
   "display_name": "Python 3 (ipykernel)",
   "language": "python",
   "name": "python3"
  },
  "language_info": {
   "codemirror_mode": {
    "name": "ipython",
    "version": 3
   },
   "file_extension": ".py",
   "mimetype": "text/x-python",
   "name": "python",
   "nbconvert_exporter": "python",
   "pygments_lexer": "ipython3",
   "version": "3.12.5"
  }
 },
 "nbformat": 4,
 "nbformat_minor": 5
}
