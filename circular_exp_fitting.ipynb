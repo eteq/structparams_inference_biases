{
 "cells": [
  {
   "cell_type": "code",
   "execution_count": null,
   "id": "9e3a3ba0-67d3-411c-8125-1056d462b953",
   "metadata": {},
   "outputs": [],
   "source": [
    "import numpy as np\n",
    "\n",
    "from scipy.special import lambertw\n",
    "\n",
    "import sympy\n",
    "\n",
    "from regions import CirclePixelRegion, PixCoord, RectanglePixelRegion, CirclePixelRegion"
   ]
  },
  {
   "cell_type": "code",
   "execution_count": null,
   "id": "63f45454-513a-459b-855b-4cc5b8ff46df",
   "metadata": {},
   "outputs": [],
   "source": [
    "from matplotlib import pyplot as plt\n",
    "%matplotlib inline"
   ]
  },
  {
   "cell_type": "markdown",
   "id": "d678582e-511a-4789-81bb-2ecedda7733a",
   "metadata": {},
   "source": [
    "See [exp_gen_experiments](exp_gen_experiments.ipynb) for function tests and derivations"
   ]
  },
  {
   "cell_type": "code",
   "execution_count": null,
   "id": "2c5e56aa-f0a9-446f-aa65-27e9b65f2a7d",
   "metadata": {},
   "outputs": [],
   "source": [
    "BVAL = 1.6783469900166605 \n",
    "TWOPI = 2*np.pi"
   ]
  },
  {
   "cell_type": "code",
   "execution_count": null,
   "id": "932a1a0c-7b92-4dd2-8743-635064747d42",
   "metadata": {},
   "outputs": [],
   "source": [
    "def generate_unif_box(n=None, halfsize=1, density=None, rstate=np.random.RandomState()):\n",
    "    if n is not None and density is not None:\n",
    "        raise ValueError('cannot give both n and density')\n",
    "    elif density is not None:\n",
    "        A = (halfsize*2)**2\n",
    "        n = density * A\n",
    "        \n",
    "    if n != int(n):\n",
    "        remainder = n - int(n)\n",
    "        n = int(n)\n",
    "        if np.random.rand(1)[0] < remainder:\n",
    "            n += 1\n",
    "    else:\n",
    "        n = int(n)\n",
    "        \n",
    "    x = rstate.uniform(-halfsize, halfsize, n)\n",
    "    y = rstate.uniform(-halfsize, halfsize, n)\n",
    "\n",
    "    return x, y\n",
    "\n",
    "def uniform_in_region(density, region, rstate=np.random.RandomState()):\n",
    "    maxpx = np.max(region.bounding_box.extent)\n",
    "    xs, ys = generate_unif_box(halfsize=maxpx, density=density, rstate=rstate)\n",
    "    msk = region.contains(PixCoord(xs, ys))\n",
    "\n",
    "    return xs[msk], ys[msk]\n",
    "\n",
    "def expinteg(F, Re, b=bval):\n",
    "    sc = np.isscalar(F)\n",
    "    res = np.atleast_1d(-Re*(lambertw((F-1)/np.exp(1), -1).real + 1)/b)\n",
    "    res.ravel()[np.isnan(res.ravel())] = 0\n",
    "    return res[0] if sc else res\n",
    "    \n",
    "def generate_exp_dglx(n=None, Re=1, density=None, region=None, rstate=np.random.RandomState()):\n",
    "    if n is not None and density is not None:\n",
    "        raise ValueError('cannot give both n and density')\n",
    "    elif density is not None:\n",
    "        # density is the mean density within the HLR\n",
    "        hA = np.pi*Re**2\n",
    "        n = 2* density * hA\n",
    "        \n",
    "    if n != int(n):\n",
    "        remainder = n - int(n)\n",
    "        n = int(n)\n",
    "        if np.random.rand(1)[0] < remainder:\n",
    "            n += 1\n",
    "    else:\n",
    "        n = int(n)\n",
    "        \n",
    "    U = rstate.uniform(0, 1, n)\n",
    "    r = expinteg(U, Re)\n",
    "    phi = rstate.uniform(0, 2*np.pi, n)\n",
    "\n",
    "    x = np.cos(phi)*r\n",
    "    y = np.sin(phi)*r\n",
    "\n",
    "    if region is not None:\n",
    "        msk = region.contains(PixCoord(x, y))\n",
    "        x = x[msk]\n",
    "        y = y[msk]\n",
    "\n",
    "    return x, y"
   ]
  },
  {
   "cell_type": "code",
   "execution_count": null,
   "id": "f5f3c9cf-403b-4949-a6ec-efef95fe9453",
   "metadata": {},
   "outputs": [],
   "source": [
    "def glx_and_uniform(glx_hdensity, bkg_density, region, Re=1, rstate=np.random.RandomState()):\n",
    "    g = generate_exp_dglx(density=glx_hdensity, Re=Re, region=region, rstate=rstate)\n",
    "    b = uniform_in_region(bkg_density, region=region, rstate=rstate)\n",
    "\n",
    "    return np.concatenate((g, b), axis=1)"
   ]
  },
  {
   "cell_type": "code",
   "execution_count": null,
   "id": "1ca560bb-dbb9-46ae-bab1-e81d05609bb3",
   "metadata": {},
   "outputs": [],
   "source": [
    "circular_large_reg = CirclePixelRegion(PixCoord(0, 0), 10)\n",
    "circular_small_reg = CirclePixelRegion(PixCoord(0, 0), 3)\n",
    "rectangular_large_reg = RectanglePixelRegion(PixCoord(0, 0), 20, 20)\n",
    "rectangular_small_reg = RectanglePixelRegion(PixCoord(0, 0), 6, 6)\n",
    "\n",
    "offset_region1 = RectanglePixelRegion(PixCoord(2, 3), 2, 3)\n",
    "offset_region2 = RectanglePixelRegion(PixCoord(0, -1), 6, 6)\n",
    "offset_regions = offset_region1 | offset_region2\n",
    "\n",
    "all_regions = {nm: globals()[nm] for nm in 'circular_large_reg,circular_small_reg,rectangular_large_reg,rectangular_small_reg,offset_regions'.split(',')}"
   ]
  },
  {
   "cell_type": "markdown",
   "id": "4300cf31-04e2-46c9-87d5-4c323cfac30b",
   "metadata": {},
   "source": [
    "# Set up fitting code\n",
    "\n",
    "`region` is a fixed region - if None the integrals are implied to infity.\n",
    "\n",
    "Parameters:\n",
    "* x0, y0 -> center\n",
    "* Re -> half-light radius\n",
    "* fbkg -> background fraction of all the stars"
   ]
  },
  {
   "cell_type": "code",
   "execution_count": null,
   "id": "1473712d-ce56-4821-ac8d-63ba028d7b72",
   "metadata": {},
   "outputs": [],
   "source": [
    "import dynesty\n",
    "from dynesty import plotting as dyplot\n",
    "\n",
    "param_names = 'x0, y0, Re, fbkg'.split(', ')"
   ]
  },
  {
   "cell_type": "markdown",
   "id": "89a75af7-4cbe-42fe-badc-b82694b8e0f7",
   "metadata": {},
   "source": [
    "Derive the bounded scale-free prior generator"
   ]
  },
  {
   "cell_type": "code",
   "execution_count": null,
   "id": "85b2d20b-f4b2-4668-956e-f826750e4089",
   "metadata": {},
   "outputs": [],
   "source": [
    "σ, x, a, b, A, F = sympy.symbols('σ,x,a,b,A,F', real=True, positive=True)\n",
    "Asoln = sympy.solve(sympy.integrate(A/σ,(σ,a,b)) - 1, A)[0]\n",
    "sympy.solve(sympy.integrate(A/σ,(σ,a,x)).subs(A, Asoln) - F, x)[0]"
   ]
  },
  {
   "cell_type": "markdown",
   "id": "2fc9e80c-c008-4c5b-b7ee-700300dd96a2",
   "metadata": {},
   "source": [
    "Prior below is that x0, y0 are on U[-1, 1], Re is scale-free on [.01, 100], fbkg is U[.1, .9]"
   ]
  },
  {
   "cell_type": "code",
   "execution_count": null,
   "id": "3917f525-ffc5-4ade-8ca5-e0ba41e7b931",
   "metadata": {},
   "outputs": [],
   "source": [
    "uppri = 100\n",
    "lpri = .01\n",
    "\n",
    "def prior_transform(u):\n",
    "    x = np.empty_like(u)\n",
    "    x[:2] = u[:2]*2 -1\n",
    "    x[2] = lpri**(1-u[2]) * uppri**u[2]\n",
    "    x[3] = u[3]*.8 + .1\n",
    "\n",
    "    return x"
   ]
  },
  {
   "cell_type": "code",
   "execution_count": null,
   "id": "50c10bf7-a653-477b-bf4a-9efe8032aa4f",
   "metadata": {},
   "outputs": [],
   "source": [
    "LTWOPI = np.log(TWOPI)\n",
    "\n",
    "def loglike(p, data):\n",
    "    x0, y0, Re, fbkg = p\n",
    "    x, y = data\n",
    "    α = Re/BVAL\n",
    "\n",
    "    r = np.hypot(x-x0, y-y0)\n",
    "    lgal = np.log(1-fbkg) - 2*np.log(α) - r/α - LTWOPI\n",
    "    lbkg = np.log(fbkg)\n",
    "    ll = np.logaddexp(lgal, lbkg)\n",
    "\n",
    "    return np.sum(ll)\n",
    "    "
   ]
  },
  {
   "cell_type": "code",
   "execution_count": null,
   "id": "c9bfc7fd-79a8-4f64-80cc-8150df692e22",
   "metadata": {},
   "outputs": [],
   "source": [
    "dsampler = dynesty.DynamicNestedSampler(loglike, prior_transform, len(param_names),\n",
    "                                       logl_kwargs={'data':glx_and_uniform(100, 10, circular_large_reg)},\n",
    "                                       sample='rslice')\n",
    "truths = [0, 0, 1, 100/10]\n",
    "dsampler.run_nested(maxiter=100000,  wt_kwargs={'pfrac': 1.0})"
   ]
  },
  {
   "cell_type": "code",
   "execution_count": null,
   "id": "0ba848da-d423-4738-9ef8-035235a0b672",
   "metadata": {},
   "outputs": [],
   "source": [
    "fig, axes = dyplot.runplot(dsampler.results)\n",
    "fig, axes = dyplot.traceplot(dsampler.results, labels=param_names, truths=truths)\n",
    "fig, axes = dyplot.cornerpoints(dsampler.results, labels=param_names, truths=truths)"
   ]
  },
  {
   "cell_type": "code",
   "execution_count": null,
   "id": "8355dd6f-a58c-4367-82e3-9b471206d9c9",
   "metadata": {},
   "outputs": [],
   "source": []
  }
 ],
 "metadata": {
  "kernelspec": {
   "display_name": "Python 3 (ipykernel)",
   "language": "python",
   "name": "python3"
  },
  "language_info": {
   "codemirror_mode": {
    "name": "ipython",
    "version": 3
   },
   "file_extension": ".py",
   "mimetype": "text/x-python",
   "name": "python",
   "nbconvert_exporter": "python",
   "pygments_lexer": "ipython3",
   "version": "3.12.5"
  }
 },
 "nbformat": 4,
 "nbformat_minor": 5
}
