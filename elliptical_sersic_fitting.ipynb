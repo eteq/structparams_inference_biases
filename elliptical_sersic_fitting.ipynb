{
 "cells": [
  {
   "cell_type": "markdown",
   "id": "40a52757",
   "metadata": {},
   "source": [
    "See [circular_exp_fitting](circular_exp_fitting.ipynb)  and  [sersic_integral_experiments](sersic_integral_experiments.ipynb) for prior art"
   ]
  },
  {
   "cell_type": "code",
   "execution_count": 1,
   "id": "a1d675cb",
   "metadata": {},
   "outputs": [],
   "source": [
    "# needed on macs due to subtle multiprocessing differences used in dynesty\n",
    "import sys\n",
    "if sys.platform == 'darwin':\n",
    "    import multiprocessing\n",
    "    multiprocessing.set_start_method('fork')"
   ]
  },
  {
   "cell_type": "code",
   "execution_count": 2,
   "id": "996d77a7",
   "metadata": {},
   "outputs": [],
   "source": [
    "import math\n",
    "\n",
    "import numpy as np\n",
    "np.seterr(invalid='ignore')\n",
    "\n",
    "from scipy import special\n",
    "\n",
    "import sympy\n",
    "\n",
    "import regions\n",
    "from regions import CirclePixelRegion, PixCoord, RectanglePixelRegion, CirclePixelRegion, PolygonPixelRegion"
   ]
  },
  {
   "cell_type": "code",
   "execution_count": 3,
   "id": "63f45454-513a-459b-855b-4cc5b8ff46df",
   "metadata": {},
   "outputs": [],
   "source": [
    "from matplotlib import pyplot as plt\n",
    "%matplotlib inline"
   ]
  },
  {
   "cell_type": "code",
   "execution_count": 4,
   "id": "a4a18c27",
   "metadata": {},
   "outputs": [],
   "source": [
    "TWOPI = 2*np.pi"
   ]
  },
  {
   "cell_type": "markdown",
   "id": "4c86c822",
   "metadata": {},
   "source": [
    "# How to update integrals for elliptical fitting\n",
    "\n",
    "intruce a circularity parameter $c \\equiv 1-e = b/a$"
   ]
  },
  {
   "cell_type": "code",
   "execution_count": 5,
   "id": "5bd908aa",
   "metadata": {},
   "outputs": [],
   "source": [
    "r,θ,c = sympy.symbols('r,θ,c', real=True)"
   ]
  },
  {
   "cell_type": "code",
   "execution_count": null,
   "id": "8e4c3e90",
   "metadata": {},
   "outputs": [],
   "source": [
    "x = r*c*sympy.cos(θ)\n",
    "y = r*sympy.sin(θ)\n",
    "J = sympy.Matrix([x,y]).jacobian([r,θ])\n",
    "J"
   ]
  },
  {
   "cell_type": "code",
   "execution_count": null,
   "id": "e4fa6ad1",
   "metadata": {},
   "outputs": [],
   "source": [
    "J.det()"
   ]
  },
  {
   "cell_type": "code",
   "execution_count": null,
   "id": "89bbcdb0",
   "metadata": {},
   "outputs": [],
   "source": [
    "J.det().simplify()"
   ]
  },
  {
   "cell_type": "markdown",
   "id": "433bd646",
   "metadata": {},
   "source": [
    "This means all the radial integrals just need a $c$ added - conveniently this will always be withj the $2 \\pi$ so that's an easy way to remember where it goes. "
   ]
  },
  {
   "cell_type": "code",
   "execution_count": 9,
   "id": "d77e8193",
   "metadata": {},
   "outputs": [],
   "source": [
    "ICOEFFS = [2, -1/3, 4/405, 46/25515, 131/1148175, -2194697/30690717750]\n",
    "\n",
    "def f_bn(n):\n",
    "    \"\"\"\n",
    "    Ciotti and Bertin 99, valid for n >~ 0.36\n",
    "    \"\"\"\n",
    "    return np.sum([C*n**(1-i) for i, C in enumerate(ICOEFFS)], axis=0)\n",
    "\n",
    "def sersic_profile(R, Ie, Re, n):\n",
    "    bn = f_bn(n)\n",
    "    return Ie * np.exp(-bn*((R/Re)**(1/n)-1))\n",
    "\n",
    "def log_sersic_profile(R, Ie, Re, n):\n",
    "    bn = f_bn(n)\n",
    "    return np.log(Ie) - bn*((R/Re)**(1/n)-1)"
   ]
  },
  {
   "cell_type": "markdown",
   "id": "b71f04ba",
   "metadata": {},
   "source": [
    "Now implement technique 5 for the sersic integral from sersic_integral_experiments, but with the added factor of c"
   ]
  },
  {
   "cell_type": "code",
   "execution_count": 10,
   "id": "772b18ff",
   "metadata": {},
   "outputs": [],
   "source": [
    "def make_grid_Iweighted(nr, nphi, outerr, Re, n):\n",
    "    bn_val = f_bn(n)\n",
    "\n",
    "    gamma2 = special.gammainc(2*n, outerr**(1/n) * Re**(-1/n) * bn_val)\n",
    "\n",
    "    u = np.linspace(0, 1, nr)\n",
    "    r = Re * (special.gammaincinv(2*n, u * gamma2) / bn_val)**n\n",
    "    phi = np.linspace(0, 2*np.pi, nphi+1)[:-1]\n",
    "\n",
    "    return np.meshgrid(r, phi)\n",
    "\n",
    "def sersic_outer_integral(Router, Re, n, e):\n",
    "    bnval = f_bn(n)\n",
    "    numer1 = 4 * np.pi * Re * Re * bnval**(-2*n) * n*n * np.exp(bnval) * (1-e)\n",
    "    \n",
    "    # non-trivial thing here: the scipy gammainc is a *regularized* gamma function meaning it has a factor of 1/gamma(s), \n",
    "    # so we square our prefactor to have scipy's gammainc match the sympy definition which is not regularized\n",
    "    numer2 = special.gamma(2*n)**2 * special.gammainc(2*n, Router**(1/n) * Re**(-1/n) * bnval)\n",
    "    \n",
    "    denom = special.gamma(2*n + 1)\n",
    "\n",
    "    return numer1 * numer2 / denom\n",
    "\n",
    "def sersic_integral(Re, n, e, pa, region, x0=0, y0=0, nr=100, nphi=100):\n",
    "    \"\"\"\n",
    "    Note the the region, Re, x0, and y0 should all be in pixels\n",
    "    \"\"\"\n",
    "\n",
    "    outerr = np.max(np.abs(region.bounding_box.extent))\n",
    "    outer_integ = sersic_outer_integral(outerr, Re, n, e)\n",
    "\n",
    "    r, phi = make_grid_Iweighted(nr, nphi, outerr, Re, n)\n",
    "    xg_unrotated = r*(1-e)*np.cos(phi) + x0\n",
    "    yg_unrotated = r*np.sin(phi) + y0\n",
    "    c = np.cos(pa)\n",
    "    s = np.sin(pa)\n",
    "    xg = xg_unrotated * c + yg_unrotated * s\n",
    "    yg = xg_unrotated *-s + yg_unrotated * c\n",
    "    msk = region.contains(regions.PixCoord(x=xg, y=yg))\n",
    "\n",
    "    frac_in_grid = np.sum(msk)/msk.size\n",
    "\n",
    "    return outer_integ * frac_in_grid"
   ]
  },
  {
   "cell_type": "markdown",
   "id": "885e56e9",
   "metadata": {},
   "source": [
    "Now define the generator functions:"
   ]
  },
  {
   "cell_type": "code",
   "execution_count": 11,
   "id": "932a1a0c-7b92-4dd2-8743-635064747d42",
   "metadata": {},
   "outputs": [],
   "source": [
    "def get_sersic_r(npoints, outerr, Re, n, rstate=np.random.default_rng()):\n",
    "    bn_val = f_bn(n)\n",
    "\n",
    "    gammaparam = 2*n\n",
    "\n",
    "    gamma2 = special.gammainc(gammaparam, outerr**(1/n) * Re**(-1/n) * bn_val)\n",
    "\n",
    "    u = rstate.uniform(size=npoints)\n",
    "    r = Re * (special.gammaincinv(gammaparam, u * gamma2) / bn_val)**n\n",
    "\n",
    "    return r\n",
    "\n",
    "def generate_unif_box(n=None, halfsize=1, density=None, rstate=np.random.RandomState()):\n",
    "    if n is not None and density is not None:\n",
    "        raise ValueError('cannot give both n and density')\n",
    "    elif density is not None:\n",
    "        A = (halfsize*2)**2\n",
    "        n = density * A\n",
    "        \n",
    "    if n != int(n):\n",
    "        remainder = n - int(n)\n",
    "        n = int(n)\n",
    "        if np.random.rand(1)[0] < remainder:\n",
    "            n += 1\n",
    "    else:\n",
    "        n = int(n)\n",
    "        \n",
    "    x = rstate.uniform(-halfsize, halfsize, n)\n",
    "    y = rstate.uniform(-halfsize, halfsize, n)\n",
    "\n",
    "    return x, y\n",
    "\n",
    "def uniform_in_region(density, region, rstate=np.random.RandomState()):\n",
    "    maxpx = np.max(region.bounding_box.extent)\n",
    "    xs, ys = generate_unif_box(halfsize=maxpx, density=density, rstate=rstate)\n",
    "    msk = region.contains(PixCoord(xs, ys))\n",
    "\n",
    "    return xs[msk], ys[msk]\n",
    "    \n",
    "def generate_sersic_dglx(n=None, Re=1, nsersic=1.5, e=0, pa=0, density=None, region=None, rstate=np.random.RandomState()):\n",
    "    if n is not None and density is not None:\n",
    "        raise ValueError('cannot give both n and density')\n",
    "    elif density is not None:\n",
    "        # density is the mean density within the HLR\n",
    "        hA = np.pi*Re**2\n",
    "        n = 2 * density * hA\n",
    "        \n",
    "    if n != int(n):\n",
    "        remainder = n - int(n)\n",
    "        n = int(n)\n",
    "        if np.random.rand(1)[0] < remainder:\n",
    "            n += 1\n",
    "    else:\n",
    "        n = int(n)\n",
    "        \n",
    "    r = get_sersic_r(n, np.inf, Re, nsersic, rstate)\n",
    "    phi = rstate.uniform(0, 2*np.pi, n)\n",
    "\n",
    "    x_unrotated = (1-e) * np.cos(phi)*r\n",
    "    y_unrotated = np.sin(phi)*r\n",
    "\n",
    "    c = np.cos(pa)\n",
    "    s = np.sin(pa)\n",
    "    x = x_unrotated * c + y_unrotated * s\n",
    "    y = x_unrotated *-s + y_unrotated * c\n",
    "\n",
    "    if region is not None:\n",
    "        msk = region.contains(PixCoord(x, y))\n",
    "        x = x[msk]\n",
    "        y = y[msk]\n",
    "\n",
    "    return x, y\n",
    "\n",
    "def glx_and_uniform(glx_hdensity, bkg_density, region, Re=1, nsersic=1.25, e=0, pa=0, rstate=np.random.RandomState()):\n",
    "    g = generate_sersic_dglx(density=glx_hdensity, Re=Re, nsersic=nsersic, region=region, rstate=rstate, e=e, pa=pa)\n",
    "    b = uniform_in_region(bkg_density, region=region, rstate=rstate)\n",
    "\n",
    "    return np.concatenate((g, b), axis=1), g, b"
   ]
  },
  {
   "cell_type": "code",
   "execution_count": null,
   "id": "3b41d80b",
   "metadata": {},
   "outputs": [],
   "source": [
    "test_region = RectanglePixelRegion(PixCoord(0, 0), 10, 10)\n",
    "_, g, b = glx_and_uniform(100, 5, test_region, Re=1, nsersic=1.25, e=.5, pa=np.pi/3)\n",
    "plt.scatter(b[0],b[1], s=5, alpha=.5)\n",
    "plt.scatter(g[0],g[1], s=5, alpha=.5, c='r')\n",
    "len(g[0]), len(b[0])"
   ]
  },
  {
   "cell_type": "code",
   "execution_count": 13,
   "id": "1ca560bb-dbb9-46ae-bab1-e81d05609bb3",
   "metadata": {},
   "outputs": [],
   "source": [
    "circular_large_reg = CirclePixelRegion(PixCoord(0, 0), 10)\n",
    "circular_small_reg = CirclePixelRegion(PixCoord(0, 0), 3)\n",
    "rectangular_large_reg = RectanglePixelRegion(PixCoord(0, 0), 20, 20)\n",
    "rectangular_small_reg = RectanglePixelRegion(PixCoord(0, 0), 6, 6)\n",
    "\n",
    "offset_region1 = RectanglePixelRegion(PixCoord(2, 3), 2, 3)\n",
    "offset_region2 = RectanglePixelRegion(PixCoord(0, -1), 6, 6)\n",
    "offset_regions = offset_region1 | offset_region2\n",
    "\n",
    "offset_poly_region = PolygonPixelRegion(PixCoord([-3, -3, 3, 3, 1, 1, -3], [2, -4, -4, 5, 5, 3, 2]))\n",
    "\n",
    "all_regions = {nm: globals()[nm] for nm in 'circular_large_reg,circular_small_reg,rectangular_large_reg,rectangular_small_reg,offset_poly_region'.split(',')}"
   ]
  },
  {
   "cell_type": "markdown",
   "id": "4300cf31-04e2-46c9-87d5-4c323cfac30b",
   "metadata": {},
   "source": [
    "# Set up fitting code\n",
    "\n",
    "`region` is a fixed region - if None the integrals are implied to infity.\n",
    "\n",
    "Parameters:\n",
    "* x0, y0 -> center\n",
    "* Re -> half-light radius\n",
    "* n -> sersic parameter\n",
    "* fbkg -> background fraction of all the stars"
   ]
  },
  {
   "cell_type": "code",
   "execution_count": 14,
   "id": "1473712d-ce56-4821-ac8d-63ba028d7b72",
   "metadata": {},
   "outputs": [],
   "source": [
    "import dynesty\n",
    "from dynesty import plotting as dyplot\n",
    "\n",
    "param_names = 'x0, y0, Re, n, e, padeg, fbkg'.split(', ')"
   ]
  },
  {
   "cell_type": "markdown",
   "id": "89a75af7-4cbe-42fe-badc-b82694b8e0f7",
   "metadata": {},
   "source": [
    "Derive the bounded scale-free prior generator"
   ]
  },
  {
   "cell_type": "code",
   "execution_count": null,
   "id": "85b2d20b-f4b2-4668-956e-f826750e4089",
   "metadata": {},
   "outputs": [],
   "source": [
    "σ, x, a, b, A, F = sympy.symbols('σ,x,a,b,A,F', real=True, positive=True)\n",
    "Asoln = sympy.solve(sympy.integrate(A/σ,(σ,a,b)) - 1, A)[0]\n",
    "sympy.solve(sympy.integrate(A/σ,(σ,a,x)).subs(A, Asoln) - F, x)[0]"
   ]
  },
  {
   "cell_type": "markdown",
   "id": "2fc9e80c-c008-4c5b-b7ee-700300dd96a2",
   "metadata": {},
   "source": [
    "Prior below is that x0, y0 are on U[-1, 1], Re is scale-free on [.1, 5], n is U[1, 1.5], fbkg is U[.1, .9]"
   ]
  },
  {
   "cell_type": "code",
   "execution_count": null,
   "id": "f6dd2c95",
   "metadata": {},
   "outputs": [],
   "source": [
    "test_region = circular_large_reg\n",
    "test_data, tg, tb = glx_and_uniform(50, 2, test_region, nsersic=1.25, Re=2, e=.5, pa=math.radians(30))\n",
    "truths = [0, 0, 2, 1.25, .5, 30, -1]\n",
    "\n",
    "truths[-1] = len(tb[0])/(len(tb[0]) + len(tg[0]))\n",
    "\n",
    "plt.scatter(*tg,s=1)\n",
    "plt.scatter(*tb,s=2)\n",
    "\n",
    "len(tg[0]), len(tb[0]), truths[-1]"
   ]
  },
  {
   "cell_type": "code",
   "execution_count": 17,
   "id": "2351e1a9",
   "metadata": {},
   "outputs": [],
   "source": [
    "uppri = 5\n",
    "lpri = .1\n",
    "\n",
    "def prior_transform(u):\n",
    "    x = np.empty_like(u)\n",
    "    x[:2] = u[:2]*2 -1\n",
    "    x[2] = (lpri**(1-u[2]) * uppri**u[2])\n",
    "    x[3] = u[3]*.5 + 1.\n",
    "    x[4] = u[4]*.9\n",
    "    x[5] = u[5]*180\n",
    "    x[6] = u[6]*.9\n",
    "\n",
    "    return x"
   ]
  },
  {
   "cell_type": "code",
   "execution_count": 18,
   "id": "50c10bf7-a653-477b-bf4a-9efe8032aa4f",
   "metadata": {},
   "outputs": [],
   "source": [
    "LTWOPI = np.log(2*np.pi)\n",
    "\n",
    "def loglike(p, data, region):\n",
    "    x0, y0, Re, n, e, padeg, fbkg = p\n",
    "    pa = math.radians(padeg)\n",
    "    cparam = 1 - e\n",
    "    x, y = data\n",
    "\n",
    "    dx = x-x0\n",
    "    dy = y-y0\n",
    "    c = math.cos(pa)\n",
    "    s = math.sin(pa)\n",
    "    x_rotated = dx * c + dy *-s\n",
    "    y_rotated = dx * s + dy * c\n",
    "\n",
    "\n",
    "    r = np.hypot(x_rotated/cparam, y_rotated)\n",
    "    lgal = np.log(1-fbkg) + log_sersic_profile(r, 1, Re, n) - np.log(sersic_integral(Re, n, region=region, x0=x0, y0=y0, nr=500, nphi=100, e=e, pa=pa))\n",
    "    lbkg = np.log(fbkg/region.area)\n",
    "    ll = np.logaddexp(lgal, lbkg)\n",
    "\n",
    "    return np.sum(ll)\n",
    "    "
   ]
  },
  {
   "cell_type": "code",
   "execution_count": null,
   "id": "f9b60249",
   "metadata": {},
   "outputs": [],
   "source": [
    "with dynesty.pool.Pool(12, loglike, prior_transform,\n",
    "                                logl_kwargs={'data': test_data, 'region':test_region},\n",
    "                      ) as pool:\n",
    "    dsampler = dynesty.DynamicNestedSampler(pool.loglike, pool.prior_transform, pool=pool,\n",
    "                                            ndim=len(param_names),sample='rslice',\n",
    "                                            periodic=[5])\n",
    "    dsampler.run_nested(maxiter=100000,  wt_kwargs={'pfrac': 1.0})"
   ]
  },
  {
   "cell_type": "code",
   "execution_count": null,
   "id": "0ba848da-d423-4738-9ef8-035235a0b672",
   "metadata": {},
   "outputs": [],
   "source": [
    "fig, axes = dyplot.runplot(dsampler.results)\n",
    "\n",
    "span = [1,1, .95, 1, 1, 1, 1]\n",
    "\n",
    "fig, axes = dyplot.traceplot(dsampler.results, labels=param_names, truths=truths,span=span)\n",
    "fig, axes = dyplot.cornerplot(dsampler.results, labels=param_names, truths=truths,span=span)\n",
    "fig, axes = dyplot.cornerpoints(dsampler.results, labels=param_names, truths=truths)"
   ]
  }
 ],
 "metadata": {
  "kernelspec": {
   "display_name": "Python 3 (ipykernel)",
   "language": "python",
   "name": "python3"
  },
  "language_info": {
   "codemirror_mode": {
    "name": "ipython",
    "version": 3
   },
   "file_extension": ".py",
   "mimetype": "text/x-python",
   "name": "python",
   "nbconvert_exporter": "python",
   "pygments_lexer": "ipython3",
   "version": "3.12.5"
  }
 },
 "nbformat": 4,
 "nbformat_minor": 5
}
