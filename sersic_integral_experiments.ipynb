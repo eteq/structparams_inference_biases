{
 "cells": [
  {
   "cell_type": "code",
   "execution_count": null,
   "id": "ec09e6c3-e35d-453a-aa59-e80e36b777c1",
   "metadata": {},
   "outputs": [],
   "source": [
    "import time\n",
    "\n",
    "import numpy as np\n",
    "\n",
    "from scipy import special, integrate\n",
    "\n",
    "from matplotlib import pyplot as plt\n",
    "\n",
    "from tqdm.notebook import tqdm\n",
    "\n",
    "import sympy\n",
    "\n",
    "import regions"
   ]
  },
  {
   "cell_type": "markdown",
   "id": "54237fe2-febf-49c8-94b8-56dbb5854626",
   "metadata": {},
   "source": [
    "Might need to do some analytic calculations..."
   ]
  },
  {
   "cell_type": "code",
   "execution_count": null,
   "id": "414e512a-5058-4cc9-a2a9-f74d20cc74dd",
   "metadata": {},
   "outputs": [],
   "source": [
    "oo = sympy.oo"
   ]
  },
  {
   "cell_type": "code",
   "execution_count": null,
   "id": "d03dfc46-35d7-4966-879f-470078c44dfb",
   "metadata": {},
   "outputs": [],
   "source": [
    "R, Ie, Re, n, bn, R1 = sympy.symbols('R, I_e, R_e, n, b_n, R_1', real=True, positive=True)"
   ]
  },
  {
   "cell_type": "code",
   "execution_count": null,
   "id": "b11cb529-5f57-492d-8464-8835e8224615",
   "metadata": {},
   "outputs": [],
   "source": [
    "sersic = Ie * sympy.exp(-bn*((R/Re)**(1/n)-1))\n",
    "sersic"
   ]
  },
  {
   "cell_type": "markdown",
   "id": "014e7cbc-f387-40dc-a33f-42a288241b02",
   "metadata": {},
   "source": [
    "Start by plotting the sersic fomula up to scope out where the integral might be tractible:"
   ]
  },
  {
   "cell_type": "code",
   "execution_count": null,
   "id": "d41ca1b3-f6a9-430b-932f-e2880cfdc317",
   "metadata": {},
   "outputs": [],
   "source": [
    "ICOEFFS = [2, -1/3, 4/405, 46/25515, 131/1148175, -2194697/30690717750]\n",
    "def f_bn(n):\n",
    "    \"\"\"\n",
    "    Ciotti and Bertin 99, valid for n >~ 0.36\n",
    "    \"\"\"\n",
    "    return np.sum([C*n**(1-i) for i, C in enumerate(ICOEFFS)], axis=0)\n",
    "\n",
    "def sersic_profile(R, Ie, Re, n):\n",
    "    bn = f_bn(n)\n",
    "    return Ie * np.exp(-bn*((R/Re)**(1/n)-1))\n",
    "\n",
    "def log_sersic_profile(R, Ie, Re, n):\n",
    "    bn = f_bn(n)\n",
    "    return np.log(Ie) - bn*((R/Re)**(1/n)-1)"
   ]
  },
  {
   "cell_type": "code",
   "execution_count": null,
   "id": "ee204b56-f1ee-4cdc-ae2d-acaaa2e33282",
   "metadata": {},
   "outputs": [],
   "source": [
    "r = np.linspace(0, 3, 1025)[1:]\n",
    "for ni in [.5, 1, 2, 3, 4]:\n",
    "    plt.plot(r, sersic_profile(r, 1, 1, ni), label=ni)\n",
    "plt.legend(loc=0)\n",
    "plt.axvline(1, c= 'k', ls=':')"
   ]
  },
  {
   "cell_type": "code",
   "execution_count": null,
   "id": "34ced934-25f0-48cd-a72c-a14bffcdfb2b",
   "metadata": {},
   "outputs": [],
   "source": [
    "fig, axs = plt.subplots(3, 2, figsize=(12, 12))\n",
    "r = np.linspace(0, 10, 1025)[1:]\n",
    "for ax, ni in zip(axs.ravel(), [.5, 1, 2, 4, 6, 8]):\n",
    "    ax.semilogx(r, sersic_profile(r, 1, 1, ni))\n",
    "    ax.set_title(f'$n={ni}$')\n",
    "    ax.axvline(1, c= 'k', ls=':')"
   ]
  },
  {
   "cell_type": "markdown",
   "id": "c5ff8848-ae32-4d39-b085-ff2bdf8e9e03",
   "metadata": {},
   "source": [
    "Now lets see how the integrand behaves since what we really need is to integrate R*I dr:"
   ]
  },
  {
   "cell_type": "code",
   "execution_count": null,
   "id": "055adf5c-fcfa-4eba-b4e6-638dd442e766",
   "metadata": {},
   "outputs": [],
   "source": [
    "r = np.linspace(0, 5, 1025)[1:]\n",
    "for ni in [.5, 1, 2, 3, 4]:\n",
    "    plt.plot(r, r*sersic_profile(r, 1, 1, ni), label=ni)\n",
    "plt.legend(loc=0)\n",
    "plt.axvline(1, c= 'k', ls=':')"
   ]
  },
  {
   "cell_type": "code",
   "execution_count": null,
   "id": "96d0d17a-feb0-490b-b106-8e6d3c20025f",
   "metadata": {},
   "outputs": [],
   "source": [
    "fig, axs = plt.subplots(3, 2, figsize=(12, 12))\n",
    "r = np.logspace(-6, 3, 1024*4 + 1)[1:]\n",
    "for ax, ni in zip(axs.ravel(), [.5, 1, 2, 4, 6, 8]):\n",
    "    ax.semilogx(r, r*sersic_profile(r, 1, 1, ni))\n",
    "    ax.set_title(f'$n={ni}$')\n",
    "    ax.axvline(1, c= 'k', ls=':')"
   ]
  },
  {
   "cell_type": "markdown",
   "id": "2d4e519b-2311-47cb-9635-4cc63cca3012",
   "metadata": {},
   "source": [
    "Ok, so the integrand is dominated by the peak and out to ~0.4-2 orders of magnitude above/below it\n",
    "\n",
    "Can we analytically work out the peak by solving where the derivative is 0?"
   ]
  },
  {
   "cell_type": "code",
   "execution_count": null,
   "id": "1193211a-7d45-4b12-9e3b-f5a12d2ccb00",
   "metadata": {},
   "outputs": [],
   "source": [
    "solns = sympy.solve(sympy.diff(R*sersic, R), R)\n",
    "assert len(solns)==1\n",
    "solns[0]"
   ]
  },
  {
   "cell_type": "markdown",
   "id": "74aa2fe8-b854-4228-b32d-583760dd246f",
   "metadata": {},
   "source": [
    "Well that's shockingly straightfoward..."
   ]
  },
  {
   "cell_type": "code",
   "execution_count": null,
   "id": "c0fbda91-38c9-4145-bf47-88454301f90f",
   "metadata": {},
   "outputs": [],
   "source": [
    "def integral_peak(Re, n):\n",
    "    bn = f_bn(n)\n",
    "    return Re*(n/bn)**n\n",
    "\n",
    "test_ns = np.array([.5, 1, 2, 3, 4, 5, 6, 7, 8, 9, 10])\n",
    "peaks = integral_peak(1, test_ns)\n",
    "\n",
    "fig, (ax1, ax2) = plt.subplots(2, 1)\n",
    "ax1.plot(test_ns, peaks, '-o')\n",
    "ax2.semilogy(test_ns, peaks, '-o')"
   ]
  },
  {
   "cell_type": "markdown",
   "id": "c8dbf5ed-9ad5-4092-8c75-c920adeb0149",
   "metadata": {},
   "source": [
    "Analytical solutions for the circular integral?"
   ]
  },
  {
   "cell_type": "code",
   "execution_count": null,
   "id": "a6937700-4bd7-40c1-9b4a-7ede0d7ad3ee",
   "metadata": {},
   "outputs": [],
   "source": [
    "infintegral = sympy.integrate(R*sersic*2*sympy.pi, (R,0, oo))\n",
    "infintegral"
   ]
  },
  {
   "cell_type": "code",
   "execution_count": null,
   "id": "1cf822af-ef06-4efd-8692-f12773a68177",
   "metadata": {},
   "outputs": [],
   "source": [
    "defintegral = sympy.integrate(R*sersic*2*sympy.pi, (R,0, R1))\n",
    "defintegral"
   ]
  },
  {
   "cell_type": "markdown",
   "id": "68a692f7-ec7b-4f1b-b7b3-abfa81d5da8b",
   "metadata": {},
   "source": [
    "Implement this integral as a optimized scipy/numpy-compatible numerical version:"
   ]
  },
  {
   "cell_type": "code",
   "execution_count": null,
   "id": "ba4536de-2a80-4387-8ee8-dd007216cb27",
   "metadata": {},
   "outputs": [],
   "source": [
    "def sersic_integral(Router, Re, n):\n",
    "    bnval = f_bn(n)\n",
    "    numer1 = 4 * np.pi * Re * Re * bnval**(-2*n) * n*n * np.exp(bnval)\n",
    "    \n",
    "    # non-trivial thing here: the scipy gammainc is a *regularized* gamma function meaning it has a factor of 1/gamma(s), \n",
    "    # so we square our prefactor to have scipy's gammainc match the sympy definition which is not regularized\n",
    "    numer2 = special.gamma(2*n)**2 * special.gammainc(2*n, Router**(1/n) * Re**(-1/n) * bnval)\n",
    "    \n",
    "    denom = special.gamma(2*n + 1)\n",
    "\n",
    "    return numer1 * numer2 / denom"
   ]
  },
  {
   "cell_type": "markdown",
   "id": "51ea01ab-902a-4439-8023-1c7162fd357c",
   "metadata": {},
   "source": [
    "Confirm that it matches the sympy derivation for some test values, allowing for some rounding since sympy's engine isn't quite the same:"
   ]
  },
  {
   "cell_type": "code",
   "execution_count": null,
   "id": "8eef2d53-7201-4efc-9e8d-e06ac63aa65c",
   "metadata": {},
   "outputs": [],
   "source": [
    "Ro_val = 3.5\n",
    "Re_val = 1.2\n",
    "n_val = 1.45\n",
    "\n",
    "scipy_val = sersic_integral(Ro_val, Re_val, n_val)\n",
    "subs = {Re:Re_val, n:n_val, R1:Ro_val, bn: f_bn(n_val)}\n",
    "sympy_val = (defintegral/Ie).evalf(subs=subs)\n",
    "\n",
    "np.testing.assert_allclose(scipy_val, float(sympy_val))\n",
    "scipy_val, sympy_val"
   ]
  },
  {
   "cell_type": "markdown",
   "id": "7011c905-9385-469c-9713-1dcb8da63ea1",
   "metadata": {},
   "source": [
    "## Integral tests"
   ]
  },
  {
   "cell_type": "markdown",
   "id": "0b363e88-2ec2-404c-9045-c23a9b1348c2",
   "metadata": {},
   "source": [
    "Now we need to try to work out a numerical solution of the integral for weird-shaped observing areas. We will try a few different approaches.  Set up some common bits for each:"
   ]
  },
  {
   "cell_type": "code",
   "execution_count": null,
   "id": "b867a3fc",
   "metadata": {},
   "outputs": [],
   "source": [
    "n_fid = 3.05\n",
    "Re_fid = 1.02\n",
    "Ie_fid = 1\n",
    "\n",
    "infintegral.evalf(subs={n:n_fid, Ie:Ie_fid, Re: Re_fid, bn: f_bn(n_fid)}), defintegral.evalf(subs={n:n_fid, Ie:Ie_fid, Re: Re_fid, bn: f_bn(n_fid), R1:6})"
   ]
  },
  {
   "cell_type": "code",
   "execution_count": null,
   "id": "3668ee71-472c-45cd-b373-ee0efd7c4a91",
   "metadata": {},
   "outputs": [],
   "source": [
    "survey_region = regions.PolygonPixelRegion(regions.PixCoord(x=[-2, -2, 2, 2], y=[-2, 2, 10, -2]))\n",
    "\n",
    "survey_region.plot()\n",
    "\n",
    "x = np.linspace(-2, 2, 10)\n",
    "def upper_line_y(x):\n",
    "    return 2*x+6\n",
    "plt.plot(x, upper_line_y(x), ':', c='r', lw=1)\n",
    "\n",
    "plt.xlim(survey_region.bounding_box.ixmin-.1, survey_region.bounding_box.ixmax+.1)\n",
    "plt.ylim(survey_region.bounding_box.iymin-.1, survey_region.bounding_box.iymax+.1)"
   ]
  },
  {
   "cell_type": "code",
   "execution_count": null,
   "id": "88b09a46-2caf-4946-9537-96b884042086",
   "metadata": {},
   "outputs": [],
   "source": [
    "def make_r_grid(nr, nphi, outerr):\n",
    "    phi = np.arange(nphi)*2*np.pi/nphi\n",
    "    r = np.linspace(0, outerr, nr+1)[1:]\n",
    "    \n",
    "    return np.meshgrid(r, phi)\n",
    "\n",
    "def make_r_grid_rweighted(nr, nphi, outerr):\n",
    "    phi = np.arange(nphi)*2*np.pi/nphi\n",
    "    u = np.linspace(0, 1, nr+1)[1:]\n",
    "    r = np.sqrt(u)*outerr\n",
    "    \n",
    "    return np.meshgrid(r, phi)\n",
    "\n",
    "# we use nphiouterhalf because that makes the total number reasonably close to the above 2\n",
    "def make_r_grid_phiweighted(nr, nphiouterhalf, outerr):\n",
    "    r = np.linspace(0, outerr, nr+1)[1:]\n",
    "    rs = []\n",
    "    phis = []\n",
    "    for ri in r:\n",
    "        nphi = int(ri/outerr * nphiouterhalf*2)\n",
    "        phi = np.linspace(0, 2*np.pi, nphi+1)[:-1]\n",
    "        rs.append(np.full_like(phi, ri))\n",
    "        phis.append(phi)\n",
    "    \n",
    "    return np.concatenate(rs), np.concatenate(phis)\n",
    "\n",
    "gridfuncs = [make_r_grid, make_r_grid_rweighted, make_r_grid_phiweighted]\n",
    "\n",
    "fig, axs = plt.subplots(1, 3, subplot_kw=dict(projection='polar'), figsize=(12, 6))\n",
    "for ax, f in zip(axs.ravel(), gridfuncs):\n",
    "    fres = f(10, 30, 3)\n",
    "    ax.scatter(*[c.ravel() for c in fres][::-1], s=10, alpha=.75)\n",
    "    ax.set_title(f'n={len(fres[0].ravel())}')\n",
    "None"
   ]
  },
  {
   "cell_type": "code",
   "execution_count": null,
   "id": "76e26b24",
   "metadata": {},
   "outputs": [],
   "source": [
    "def grid_in_region(r, phi, region):\n",
    "    x, y = r*np.cos(phi), r*np.sin(phi)\n",
    "    msk = region.contains(regions.PixCoord(x=x, y=y))\n",
    "    return r[msk], phi[msk], msk"
   ]
  },
  {
   "cell_type": "markdown",
   "id": "94d1bb34-eb8b-4b18-8f8f-2618bd057cf7",
   "metadata": {},
   "source": [
    "### Technique 1: direct integration\n",
    "\n",
    "This will be too slow but is an arbitrary-precision check to ensure accuracy of the others. Does not use the region mask above so a bit more awkward, but mocks up the region above."
   ]
  },
  {
   "cell_type": "code",
   "execution_count": null,
   "id": "13eb145a-2160-489c-bd0b-c9fd286337e7",
   "metadata": {},
   "outputs": [],
   "source": [
    "def sersic_integrand(x, y, Ie, Re, n):\n",
    "    R = np.hypot(x, y)\n",
    "    # don't need the R because dblquad is already over a  cartersian grid\n",
    "    return sersic_profile(R, Ie, Re, n)"
   ]
  },
  {
   "cell_type": "markdown",
   "id": "5a849753",
   "metadata": {},
   "source": [
    "First do something large enough to be very close to infinity"
   ]
  },
  {
   "cell_type": "code",
   "execution_count": null,
   "id": "bdcbfc27-cf91-4703-aea3-7476c6c89fe9",
   "metadata": {},
   "outputs": [],
   "source": [
    "infresult = integrate.dblquad(sersic_integrand, \n",
    "                  a=-200, b=200, \n",
    "                  gfun=lambda x: -200, hfun=lambda x:200,#hfun=upper_line_y, \n",
    "                  args=(Ie_fid, Re_fid, n_fid))\n",
    "infresult, infintegral.evalf(subs={n:n_fid, Ie:Ie_fid, Re: Re_fid, bn: f_bn(n_fid)})"
   ]
  },
  {
   "cell_type": "markdown",
   "id": "1c58d194",
   "metadata": {},
   "source": [
    "Now try a more realistic case and compare to a vaguely similar definite integral"
   ]
  },
  {
   "cell_type": "code",
   "execution_count": null,
   "id": "48792c23",
   "metadata": {},
   "outputs": [],
   "source": [
    "directresult = integrate.dblquad(sersic_integrand, \n",
    "                  a=-2, b=2,\n",
    "                  gfun=lambda x: -2, hfun=upper_line_y, \n",
    "                  args=(Ie_fid, Re_fid, n_fid))\n",
    "directresult, defintegral.evalf(subs={n:n_fid, Ie:Ie_fid, Re: Re_fid, bn: f_bn(n_fid), R1:3})"
   ]
  },
  {
   "cell_type": "markdown",
   "id": "eeb0473d-668f-435f-a0e3-b18bdba9536b",
   "metadata": {},
   "source": [
    "### Technique 2: Direct grid evaluation\n",
    "\n",
    "Compute the grid values and integrate numerically on the grid"
   ]
  },
  {
   "cell_type": "code",
   "execution_count": null,
   "id": "8d889fc6-091f-4246-91a5-9eb2b1530501",
   "metadata": {},
   "outputs": [],
   "source": [
    "def sersic_integral_direct_grid(nr, nphi, Ie=Ie_fid, Re=Re_fid, n=n_fid, region=survey_region):\n",
    "    outerr = np.max(region.bounding_box.extent)\n",
    "    r, phi = make_r_grid(nr, nphi, outerr)\n",
    "    dr = np.diff(r, axis=1).mean()\n",
    "    dphi = np.diff(phi, axis=0).mean()\n",
    "    rg, phig, msk = grid_in_region(r, phi, region)\n",
    "    I = sersic_profile(rg, Ie, Re, n)\n",
    "\n",
    "    return np.sum(I*rg*dr*dphi)\n",
    "\n",
    "res = sersic_integral_direct_grid(100, 100)\n",
    "\n",
    "# result, correct result, relative error\n",
    "float(res), directresult[0], (float(res)-directresult[0])/directresult[0]"
   ]
  },
  {
   "cell_type": "code",
   "execution_count": null,
   "id": "663ba897",
   "metadata": {},
   "outputs": [],
   "source": [
    "def sersic_integral_direct_grid_rweighted(nr, nphi, Ie=Ie_fid, Re=Re_fid, n=n_fid, region=survey_region):\n",
    "    outerr = np.max(region.bounding_box.extent)\n",
    "    r, phi = make_r_grid_rweighted(nr, nphi, outerr)\n",
    "    dr = np.insert(np.diff(r, axis=1).mean(axis=0), 0, r[0,0])\n",
    "    #dr = np.insert(np.diff(r, axis=1).mean(axis=0), -1, r[-1,-1])\n",
    "    dr = np.array([dr for _ in range(r.shape[0])])\n",
    "    dphi = np.diff(phi, axis=0).mean()\n",
    "    rg, phig, msk = grid_in_region(r, phi, survey_region)\n",
    "    dr = dr[msk]\n",
    "    I = sersic_profile(rg, Ie, Re, n)\n",
    "\n",
    "    return np.sum(I*rg*dr*dphi)\n",
    "\n",
    "res = sersic_integral_direct_grid_rweighted(100, 100)\n",
    "\n",
    "# result, correct result, relative error\n",
    "float(res), directresult[0], (float(res)-directresult[0])/directresult[0]"
   ]
  },
  {
   "cell_type": "code",
   "execution_count": null,
   "id": "4273395d",
   "metadata": {},
   "outputs": [],
   "source": [
    "def sersic_integral_direct_grid_phiweighted(nr, nphiouterhalf, Ie=Ie_fid, Re=Re_fid, n=n_fid, region=survey_region):\n",
    "    outerr = np.max(region.bounding_box.extent)\n",
    "    r, phi = make_r_grid_phiweighted(nr, nphiouterhalf, outerr)\n",
    "\n",
    "    dr = np.diff(r)\n",
    "    dr = dr[dr!=0].mean()\n",
    "\n",
    "    dphi = np.diff(phi)\n",
    "    dphi[dphi<0] = dphi[np.roll( dphi<0, -1)]\n",
    "    dphi = np.insert(dphi, 0, dphi[0])\n",
    "\n",
    "    rg, phig, msk = grid_in_region(r, phi, survey_region)\n",
    "    dphi = dphi[msk]\n",
    "    I = sersic_profile(rg, Ie, Re, n)\n",
    "\n",
    "    return np.sum(I*rg*dr*dphi)\n",
    "\n",
    "res = sersic_integral_direct_grid_phiweighted(100, 100)\n",
    "\n",
    "# result, correct result, relative error\n",
    "float(res), directresult[0], (float(res)-directresult[0])/directresult[0]"
   ]
  },
  {
   "cell_type": "markdown",
   "id": "6537fcbb",
   "metadata": {},
   "source": [
    "Now need to try over different grid sizes and see what converges fastest"
   ]
  },
  {
   "cell_type": "code",
   "execution_count": null,
   "id": "4d15362c",
   "metadata": {},
   "outputs": [],
   "source": [
    "nrnphi_to_try = [(10,30),(30, 10), (10, 100), (100, 10), (100, 100), (500, 100), (100, 500), (1000, 1000)]\n",
    "timing_repeats = 10"
   ]
  },
  {
   "cell_type": "markdown",
   "id": "5ab45230",
   "metadata": {},
   "source": [
    "#### equal r/phi spacing"
   ]
  },
  {
   "cell_type": "code",
   "execution_count": null,
   "id": "62f5a523",
   "metadata": {},
   "outputs": [],
   "source": [
    "times = []\n",
    "medtimes = []\n",
    "stdtimes = []\n",
    "results = []\n",
    "for nr, nphi in tqdm(nrnphi_to_try):\n",
    "    reses = []\n",
    "    ts = []\n",
    "    for _ in range(timing_repeats):\n",
    "        t1 = time.time()\n",
    "        reses.append(sersic_integral_direct_grid(nr, nphi))\n",
    "        t2 = time.time()\n",
    "        ts.append(t2-t1)\n",
    "    times.append(ts)\n",
    "    medtimes.append(np.median(ts))\n",
    "    stdtimes.append(np.std(ts))\n",
    "\n",
    "    # confirm that there's no significant variation in the results at 1e-7 level\n",
    "    assert np.std(reses)/np.mean(reses) < 1e-7, f'{nr},{nphi} {np.std(reses)} {np.mean(reses)} {np.array(reses)}'\n",
    "    \n",
    "    results.append(np.mean(reses))\n",
    "\n",
    "fracdev = (np.array(results) - directresult[0])/directresult[0]\n",
    "\n",
    "fig, (ax1, ax2) = plt.subplots(2, 1)\n",
    "\n",
    "sc = ax1.scatter(*np.array(nrnphi_to_try).T, c=np.log10(medtimes), vmin=-4, vmax=0)\n",
    "plt.colorbar(sc, ax=ax1).set_label('log10(median time)')\n",
    "\n",
    "sc = ax2.scatter(*np.array(nrnphi_to_try).T, c=np.log10(np.abs(fracdev)), vmin=-5, vmax=0)\n",
    "plt.colorbar(sc, ax=ax2).set_label('log10(fractional deviation')\n",
    "\n",
    "for ax in [ax1, ax2]:\n",
    "    ax.loglog()\n",
    "\n",
    "for nl, t, s in zip(nrnphi_to_try, medtimes, stdtimes):\n",
    "    print(nl, 't', f'{t:.2e} +/- {s:.2e}, frac: {s/t:.3%}')\n",
    "\n",
    "for nl, f in zip(nrnphi_to_try, fracdev):\n",
    "    print(nl, 'Ideviation:', f'{f:.3%}')\n",
    "    "
   ]
  },
  {
   "cell_type": "markdown",
   "id": "18952fb0",
   "metadata": {},
   "source": [
    "#### r weighted"
   ]
  },
  {
   "cell_type": "code",
   "execution_count": null,
   "id": "93dc1f6f",
   "metadata": {},
   "outputs": [],
   "source": [
    "times = []\n",
    "medtimes = []\n",
    "stdtimes = []\n",
    "results = []\n",
    "for nr, nphi in tqdm(nrnphi_to_try):\n",
    "    reses = []\n",
    "    ts = []\n",
    "    for _ in range(timing_repeats):\n",
    "        t1 = time.time()\n",
    "        reses.append(sersic_integral_direct_grid_rweighted(nr, nphi))\n",
    "        t2 = time.time()\n",
    "        ts.append(t2-t1)\n",
    "    times.append(ts)\n",
    "    medtimes.append(np.median(ts))\n",
    "    stdtimes.append(np.std(ts))\n",
    "\n",
    "    # confirm that there's no significant variation in the results at 1e-7 level\n",
    "    assert np.std(reses)/np.mean(reses) < 1e-7, f'{nr},{nphi} {np.std(reses)} {np.mean(reses)} {np.array(reses)}'\n",
    "    \n",
    "    results.append(np.mean(reses))\n",
    "\n",
    "fracdev = (np.array(results) - directresult[0])/directresult[0]\n",
    "\n",
    "fig, (ax1, ax2) = plt.subplots(2, 1)\n",
    "\n",
    "sc = ax1.scatter(*np.array(nrnphi_to_try).T, c=np.log10(medtimes), vmin=-4, vmax=0)\n",
    "plt.colorbar(sc, ax=ax1).set_label('log10(median time)')\n",
    "\n",
    "sc = ax2.scatter(*np.array(nrnphi_to_try).T, c=np.log10(np.abs(fracdev)), vmin=-5, vmax=0)\n",
    "plt.colorbar(sc, ax=ax2).set_label('log10(fractional deviation')\n",
    "\n",
    "for ax in [ax1, ax2]:\n",
    "    ax.loglog()\n",
    "\n",
    "for nl, t, s in zip(nrnphi_to_try, medtimes, stdtimes):\n",
    "    print(nl, 't', f'{t:.2e} +/- {s:.2e}, frac: {s/t:.3%}')\n",
    "\n",
    "for nl, f in zip(nrnphi_to_try, fracdev):\n",
    "    print(nl, 'Ideviation:', f'{f:.2%}')\n",
    "    "
   ]
  },
  {
   "cell_type": "markdown",
   "id": "6a7a46cc",
   "metadata": {},
   "source": [
    "#### phi weighted"
   ]
  },
  {
   "cell_type": "code",
   "execution_count": null,
   "id": "b0e0d3af",
   "metadata": {},
   "outputs": [],
   "source": [
    "times = []\n",
    "medtimes = []\n",
    "stdtimes = []\n",
    "results = []\n",
    "for nr, nphi in tqdm(nrnphi_to_try):\n",
    "    reses = []\n",
    "    ts = []\n",
    "    for _ in range(timing_repeats):\n",
    "        t1 = time.time()\n",
    "        reses.append(sersic_integral_direct_grid_phiweighted(nr, nphi))\n",
    "        t2 = time.time()\n",
    "        ts.append(t2-t1)\n",
    "    times.append(ts)\n",
    "    medtimes.append(np.median(ts))\n",
    "    stdtimes.append(np.std(ts))\n",
    "\n",
    "    # confirm that there's no significant variation in the results at 1e-7 level\n",
    "    assert np.std(reses)/np.mean(reses) < 1e-7, f'{nr},{nphi} {np.std(reses)} {np.mean(reses)} {np.array(reses)}'\n",
    "    \n",
    "    results.append(np.mean(reses))\n",
    "\n",
    "fracdev = (np.array(results) - directresult[0])/directresult[0]\n",
    "\n",
    "fig, (ax1, ax2) = plt.subplots(2, 1)\n",
    "\n",
    "sc = ax1.scatter(*np.array(nrnphi_to_try).T, c=np.log10(medtimes), vmin=-4, vmax=0)\n",
    "plt.colorbar(sc, ax=ax1).set_label('log10(median time)')\n",
    "\n",
    "sc = ax2.scatter(*np.array(nrnphi_to_try).T, c=np.log10(np.abs(fracdev)), vmin=-5, vmax=0)\n",
    "plt.colorbar(sc, ax=ax2).set_label('log10(fractional deviation')\n",
    "\n",
    "for ax in [ax1, ax2]:\n",
    "    ax.loglog()\n",
    "\n",
    "\n",
    "for nl, t, s in zip(nrnphi_to_try, medtimes, stdtimes):\n",
    "    print(nl, 't', f'{t:.2e} +/- {s:.2e}, frac: {s/t:.3%}')\n",
    "\n",
    "for nl, f in zip(nrnphi_to_try, fracdev):\n",
    "    print(nl, 'Ideviation:', f'{f:.2%}')\n",
    "    "
   ]
  },
  {
   "cell_type": "markdown",
   "id": "1386cc15",
   "metadata": {},
   "source": [
    "TODO: decide why the weighting methods are not right"
   ]
  },
  {
   "cell_type": "markdown",
   "id": "5725081d-80f3-47b7-bfe2-8d963fd4fa2c",
   "metadata": {},
   "source": [
    "### Technique 3: Integrate to outer edge and remove excess\n",
    "\n",
    "Evaluate the integral to the largest point in the mask, then subtract out the parts of the radial grid that are outside"
   ]
  },
  {
   "cell_type": "code",
   "execution_count": null,
   "id": "28655e36-6813-4efa-b3a5-f71236116444",
   "metadata": {},
   "outputs": [],
   "source": []
  },
  {
   "cell_type": "markdown",
   "id": "01f083bd-d1ce-40ce-a216-50c83c421eb4",
   "metadata": {},
   "source": [
    "### Technique 4: Integrate to inner edge and add excess\n",
    "\n",
    "Evaluate the integral to the smallest point in the mask, then add the parts of the radial grid that are outside the integral but inside the mask."
   ]
  },
  {
   "cell_type": "code",
   "execution_count": null,
   "id": "c17833ed-05dc-4bb0-a957-48b2437bc3e5",
   "metadata": {},
   "outputs": [],
   "source": []
  },
  {
   "cell_type": "markdown",
   "id": "1f0a8a4c-70e7-4f69-96ee-07f1d2e3804d",
   "metadata": {},
   "source": [
    "### Technique 5: Sample integrand points by inverse distribution, scale by outer edge\n",
    "\n",
    "Start with technique 3, but then sample the integrand by CDF and just sum up the fraction in and out of the mask instead of evaluating the integral explicitly"
   ]
  },
  {
   "cell_type": "code",
   "execution_count": null,
   "id": "868ef0a9-1333-42a2-aa4a-a26e7fe71103",
   "metadata": {},
   "outputs": [],
   "source": []
  }
 ],
 "metadata": {
  "kernelspec": {
   "display_name": "Python 3 (ipykernel)",
   "language": "python",
   "name": "python3"
  },
  "language_info": {
   "codemirror_mode": {
    "name": "ipython",
    "version": 3
   },
   "file_extension": ".py",
   "mimetype": "text/x-python",
   "name": "python",
   "nbconvert_exporter": "python",
   "pygments_lexer": "ipython3",
   "version": "3.12.5"
  }
 },
 "nbformat": 4,
 "nbformat_minor": 5
}
