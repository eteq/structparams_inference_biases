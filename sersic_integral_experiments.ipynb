{
 "cells": [
  {
   "cell_type": "code",
   "execution_count": null,
   "id": "ec09e6c3-e35d-453a-aa59-e80e36b777c1",
   "metadata": {},
   "outputs": [],
   "source": [
    "import numpy as np\n",
    "\n",
    "from matplotlib import pyplot as plt\n",
    "\n",
    "import sympy"
   ]
  },
  {
   "cell_type": "markdown",
   "id": "54237fe2-febf-49c8-94b8-56dbb5854626",
   "metadata": {},
   "source": [
    "Might need to do some analytic calculations..."
   ]
  },
  {
   "cell_type": "code",
   "execution_count": null,
   "id": "414e512a-5058-4cc9-a2a9-f74d20cc74dd",
   "metadata": {},
   "outputs": [],
   "source": [
    "oo = sympy.oo"
   ]
  },
  {
   "cell_type": "code",
   "execution_count": null,
   "id": "d03dfc46-35d7-4966-879f-470078c44dfb",
   "metadata": {},
   "outputs": [],
   "source": [
    "R, Ie, Re, n, bn, R1 = sympy.symbols('R, I_e, R_e, n, b_n, R_1', real=True, positive=True)"
   ]
  },
  {
   "cell_type": "code",
   "execution_count": null,
   "id": "b11cb529-5f57-492d-8464-8835e8224615",
   "metadata": {},
   "outputs": [],
   "source": [
    "sersic = Ie * sympy.exp(-bn*((R/Re)**(1/n)-1))\n",
    "sersic"
   ]
  },
  {
   "cell_type": "markdown",
   "id": "014e7cbc-f387-40dc-a33f-42a288241b02",
   "metadata": {},
   "source": [
    "Start by plotting the sersic fomula up to scope out where the integral might be tractible:"
   ]
  },
  {
   "cell_type": "code",
   "execution_count": null,
   "id": "d41ca1b3-f6a9-430b-932f-e2880cfdc317",
   "metadata": {},
   "outputs": [],
   "source": [
    "ICOEFFS = [2, -1/3, 4/405, 46/25515, 131/1148175, -2194697/30690717750]\n",
    "def f_bn(n):\n",
    "    \"\"\"\n",
    "    Ciotti and Bertin 99, valid for n >~ 0.36\n",
    "    \"\"\"\n",
    "    return np.sum([C*n**(1-i) for i, C in enumerate(ICOEFFS)], axis=0)\n",
    "\n",
    "def sersic_profile(R, Ie, Re, n):\n",
    "    bn = f_bn(n)\n",
    "    return Ie * np.exp(-bn*((R/Re)**(1/n)-1))\n",
    "\n",
    "def log_sersic_profile(R, Ie, Re, n):\n",
    "    bn = f_bn(n)\n",
    "    return np.log(Ie) - bn*((R/Re)**(1/n)-1)"
   ]
  },
  {
   "cell_type": "code",
   "execution_count": null,
   "id": "ee204b56-f1ee-4cdc-ae2d-acaaa2e33282",
   "metadata": {},
   "outputs": [],
   "source": [
    "r = np.linspace(0, 3, 1025)[1:]\n",
    "for n in [.5, 1, 2, 3, 4]:\n",
    "    plt.plot(r, sersic_profile(r, 1, 1, n), label=n)\n",
    "plt.legend(loc=0)\n",
    "plt.axvline(1, c= 'k', ls=':')"
   ]
  },
  {
   "cell_type": "code",
   "execution_count": null,
   "id": "34ced934-25f0-48cd-a72c-a14bffcdfb2b",
   "metadata": {},
   "outputs": [],
   "source": [
    "fig, axs = plt.subplots(3, 2, figsize=(12, 12))\n",
    "r = np.linspace(0, 10, 1025)[1:]\n",
    "for ax, n in zip(axs.ravel(), [.5, 1, 2, 4, 6, 8]):\n",
    "    ax.semilogx(r, sersic_profile(r, 1, 1, n))\n",
    "    ax.set_title(f'$n={n}$')\n",
    "    ax.axvline(1, c= 'k', ls=':')"
   ]
  },
  {
   "cell_type": "markdown",
   "id": "c5ff8848-ae32-4d39-b085-ff2bdf8e9e03",
   "metadata": {},
   "source": [
    "Now lets see how the integrand behaves since what we really need is to integrate R*I dr:"
   ]
  },
  {
   "cell_type": "code",
   "execution_count": null,
   "id": "055adf5c-fcfa-4eba-b4e6-638dd442e766",
   "metadata": {},
   "outputs": [],
   "source": [
    "r = np.linspace(0, 5, 1025)[1:]\n",
    "for n in [.5, 1, 2, 3, 4]:\n",
    "    plt.plot(r, r*sersic_profile(r, 1, 1, n), label=n)\n",
    "plt.legend(loc=0)\n",
    "plt.axvline(1, c= 'k', ls=':')"
   ]
  },
  {
   "cell_type": "code",
   "execution_count": null,
   "id": "96d0d17a-feb0-490b-b106-8e6d3c20025f",
   "metadata": {},
   "outputs": [],
   "source": [
    "fig, axs = plt.subplots(3, 2, figsize=(12, 12))\n",
    "r = np.logspace(-6, 3, 1024*4 + 1)[1:]\n",
    "for ax, n in zip(axs.ravel(), [.5, 1, 2, 4, 6, 8]):\n",
    "    ax.semilogx(r, r*sersic_profile(r, 1, 1, n))\n",
    "    ax.set_title(f'$n={n}$')\n",
    "    ax.axvline(1, c= 'k', ls=':')"
   ]
  },
  {
   "cell_type": "markdown",
   "id": "2d4e519b-2311-47cb-9635-4cc63cca3012",
   "metadata": {},
   "source": [
    "Ok, so the integrand is dominated by the peak and out to ~0.4-2 orders of magnitude above/below it\n",
    "\n",
    "Can we analytically work out the peak by solving where the derivative is 0?"
   ]
  },
  {
   "cell_type": "code",
   "execution_count": null,
   "id": "1193211a-7d45-4b12-9e3b-f5a12d2ccb00",
   "metadata": {},
   "outputs": [],
   "source": [
    "solns = sympy.solve(sympy.diff(R*sersic, R), R)\n",
    "assert len(solns)==1\n",
    "solns[0]"
   ]
  },
  {
   "cell_type": "markdown",
   "id": "74aa2fe8-b854-4228-b32d-583760dd246f",
   "metadata": {},
   "source": [
    "Well that's shockingly straightfoward..."
   ]
  },
  {
   "cell_type": "code",
   "execution_count": null,
   "id": "c0fbda91-38c9-4145-bf47-88454301f90f",
   "metadata": {},
   "outputs": [],
   "source": [
    "def integral_peak(Re, n):\n",
    "    bn = f_bn(n)\n",
    "    return Re*(n/bn)**n\n",
    "\n",
    "test_ns = np.array([.5, 1, 2, 3, 4, 5, 6, 7, 8, 9, 10])\n",
    "peaks = integral_peak(1, test_ns)\n",
    "\n",
    "fig, (ax1, ax2) = plt.subplots(2, 1)\n",
    "ax1.plot(test_ns, peaks, '-o')\n",
    "ax2.semilogy(test_ns, peaks, '-o')"
   ]
  },
  {
   "cell_type": "markdown",
   "id": "c8dbf5ed-9ad5-4092-8c75-c920adeb0149",
   "metadata": {},
   "source": [
    "Analytical solutions for the circular integral?"
   ]
  },
  {
   "cell_type": "code",
   "execution_count": null,
   "id": "a6937700-4bd7-40c1-9b4a-7ede0d7ad3ee",
   "metadata": {},
   "outputs": [],
   "source": [
    "sympy.integrate(R*sersic, (R,0, oo))"
   ]
  },
  {
   "cell_type": "code",
   "execution_count": null,
   "id": "1cf822af-ef06-4efd-8692-f12773a68177",
   "metadata": {},
   "outputs": [],
   "source": [
    "sympy.integrate(R*sersic, (R,0, R1))"
   ]
  },
  {
   "cell_type": "markdown",
   "id": "136799ac-25ff-49df-a3c2-277b8ac77534",
   "metadata": {},
   "source": [
    "Do some timing tests to see at what data size the analytical solution is ~= direct summation:"
   ]
  },
  {
   "cell_type": "code",
   "execution_count": null,
   "id": "94419f6c-7ef5-4e44-87b0-a5c622a04e26",
   "metadata": {},
   "outputs": [],
   "source": []
  }
 ],
 "metadata": {
  "kernelspec": {
   "display_name": "Python 3 (ipykernel)",
   "language": "python",
   "name": "python3"
  },
  "language_info": {
   "codemirror_mode": {
    "name": "ipython",
    "version": 3
   },
   "file_extension": ".py",
   "mimetype": "text/x-python",
   "name": "python",
   "nbconvert_exporter": "python",
   "pygments_lexer": "ipython3",
   "version": "3.12.5"
  }
 },
 "nbformat": 4,
 "nbformat_minor": 5
}
